{
 "cells": [
  {
   "cell_type": "code",
   "execution_count": 1,
   "id": "04cf90e3-2267-4cdb-8faf-909f4cf469a0",
   "metadata": {
    "tags": []
   },
   "outputs": [],
   "source": [
    "import json\n",
    "import requests\n",
    "import pickle\n",
    "import glob\n",
    "\n",
    "import pandas as pd\n",
    "import matplotlib.pyplot as plt\n",
    "import numpy as np"
   ]
  },
  {
   "cell_type": "code",
   "execution_count": 2,
   "id": "d935c9dc-9abd-400a-be9d-0f9a28cc66ae",
   "metadata": {
    "tags": []
   },
   "outputs": [],
   "source": [
    "with open('creds.txt', 'r') as f:\n",
    "    name, user, pw, nasapass, token = f.read().split('\\n')"
   ]
  },
  {
   "cell_type": "code",
   "execution_count": 3,
   "id": "01914ca2-8d93-4f5a-a456-7658c2cc7be7",
   "metadata": {
    "tags": []
   },
   "outputs": [],
   "source": [
    "def make_box(lat, lon, side_length = 1):\n",
    "    a = 6378137\n",
    "    b = 6356752.3142\n",
    "    e = 0.00669438000426\n",
    "    \n",
    "    dx = (0.5 * side_length * 1000) / (a * np.cos(lon) / np.sqrt(1 - e*np.sin(lon)**2))\n",
    "    dy = (0.5 * side_length * 1000) / (a * (1 - e) / np.sqrt(1 - e * np.sin(lon)**2)**3)\n",
    "    \n",
    "    return \"W{} N{} E{} S{}\".format(lat-dx, lon+dy, lat+dx, lon-dy)"
   ]
  },
  {
   "cell_type": "code",
   "execution_count": 4,
   "id": "c286c835-c69f-4b89-9d1e-862a89840817",
   "metadata": {
    "tags": []
   },
   "outputs": [],
   "source": [
    "#https://ladsweb.modaps.eosdis.nasa.gov/api/v2/content/details?products=VNP14&temporalRanges=2019-10-23..2019-11-06&regions=[BBOX]W-125 N40 E-119.6 S36.5\n",
    "\n",
    "targets = glob.glob('data/epa/*.csv')"
   ]
  },
  {
   "cell_type": "code",
   "execution_count": 5,
   "id": "deec7c51-a599-43af-875e-215f35c5751d",
   "metadata": {
    "tags": []
   },
   "outputs": [
    {
     "name": "stdout",
     "output_type": "stream",
     "text": [
      "{'content': [{'archiveSets': 61, 'cksum': '2779882968', 'collections': '61', 'dataDay': '2021-001 = 2021-01-01', 'downloadsLink': 'https://ladsweb.modaps.eosdis.nasa.gov/api/v2/content/archives/MOD04_3K.A2021001.0615.061.2021268052118.hdf', 'fileId': 6505394329, 'illuminations': 'D', 'md5sum': '4b582b9e5f565e515ba82bcbf5ef0181', 'mtime': 1632547390, 'name': 'MOD04_3K.A2021001.0615.061.2021268052118.hdf', 'products': 'MOD04_3K', 'resourceType': 'File', 'self': '/api/v2/content/details/MOD04_3K.A2021001.0615.061.2021268052118.hdf', 'size': 3773561}, {'archiveSets': 61, 'cksum': '1953030569', 'collections': '61', 'dataDay': '2021-001 = 2021-01-01', 'downloadsLink': 'https://ladsweb.modaps.eosdis.nasa.gov/api/v2/content/archives/MOD04_3K.A2021001.1930.061.2021268052428.hdf', 'fileId': 6505398012, 'illuminations': 'D', 'md5sum': 'd8493f36f8a375304f55c7bcdb48c3da', 'mtime': 1632547566, 'name': 'MOD04_3K.A2021001.1930.061.2021268052428.hdf', 'products': 'MOD04_3K', 'resourceType': 'File', 'self': '/api/v2/content/details/MOD04_3K.A2021001.1930.061.2021268052428.hdf', 'size': 3717542}, {'archiveSets': 61, 'cksum': '417208780', 'collections': '61', 'dataDay': '2021-001 = 2021-01-01', 'downloadsLink': 'https://ladsweb.modaps.eosdis.nasa.gov/api/v2/content/archives/MOD04_3K.A2021001.0935.061.2021268052417.hdf', 'fileId': 6505397673, 'illuminations': 'B', 'md5sum': 'c6050f17842d9525cc35db95f068f5af', 'mtime': 1632547536, 'name': 'MOD04_3K.A2021001.0935.061.2021268052417.hdf', 'products': 'MOD04_3K', 'resourceType': 'File', 'self': '/api/v2/content/details/MOD04_3K.A2021001.0935.061.2021268052417.hdf', 'size': 3768596}, {'archiveSets': 61, 'cksum': '608030011', 'collections': '61', 'dataDay': '2021-001 = 2021-01-01', 'downloadsLink': 'https://ladsweb.modaps.eosdis.nasa.gov/api/v2/content/archives/MOD04_3K.A2021001.1750.061.2021268052600.hdf', 'fileId': 6505400012, 'illuminations': 'D', 'md5sum': '91ceec19bf44b1ca1dd3dcb8a67a72d4', 'mtime': 1632547688, 'name': 'MOD04_3K.A2021001.1750.061.2021268052600.hdf', 'products': 'MOD04_3K', 'resourceType': 'File', 'self': '/api/v2/content/details/MOD04_3K.A2021001.1750.061.2021268052600.hdf', 'size': 3975462}, {'archiveSets': 61, 'cksum': '2436643663', 'collections': '61', 'dataDay': '2021-001 = 2021-01-01', 'downloadsLink': 'https://ladsweb.modaps.eosdis.nasa.gov/api/v2/content/archives/MOD04_3K.A2021001.0755.061.2021268052005.hdf', 'fileId': 6505392368, 'illuminations': 'D', 'md5sum': '57ca46770a303c9476259e8a30045f71', 'mtime': 1632547290, 'name': 'MOD04_3K.A2021001.0755.061.2021268052005.hdf', 'products': 'MOD04_3K', 'resourceType': 'File', 'self': '/api/v2/content/details/MOD04_3K.A2021001.0755.061.2021268052005.hdf', 'size': 3775496}, {'archiveSets': 61, 'cksum': '1568660465', 'collections': '61', 'dataDay': '2021-001 = 2021-01-01', 'downloadsLink': 'https://ladsweb.modaps.eosdis.nasa.gov/api/v2/content/archives/MOD04_3K.A2021001.1255.061.2021268052226.hdf', 'fileId': 6505395703, 'illuminations': 'D', 'md5sum': '4d27056884bac39969728809a6750349', 'mtime': 1632547447, 'name': 'MOD04_3K.A2021001.1255.061.2021268052226.hdf', 'products': 'MOD04_3K', 'resourceType': 'File', 'self': '/api/v2/content/details/MOD04_3K.A2021001.1255.061.2021268052226.hdf', 'size': 3754670}, {'archiveSets': 61, 'cksum': '596601798', 'collections': '61', 'dataDay': '2021-001 = 2021-01-01', 'downloadsLink': 'https://ladsweb.modaps.eosdis.nasa.gov/api/v2/content/archives/MOD04_3K.A2021001.0620.061.2021268052102.hdf', 'fileId': 6505393632, 'illuminations': 'D', 'md5sum': 'd9f8760a405807221e1ae9c7eaaa459d', 'mtime': 1632547350, 'name': 'MOD04_3K.A2021001.0620.061.2021268052102.hdf', 'products': 'MOD04_3K', 'resourceType': 'File', 'self': '/api/v2/content/details/MOD04_3K.A2021001.0620.061.2021268052102.hdf', 'size': 3695404}, {'archiveSets': 61, 'cksum': '1025046370', 'collections': '61', 'dataDay': '2021-001 = 2021-01-01', 'downloadsLink': 'https://ladsweb.modaps.eosdis.nasa.gov/api/v2/content/archives/MOD04_3K.A2021001.1935.061.2021268052631.hdf', 'fileId': 6505400014, 'illuminations': 'B', 'md5sum': '2f70355ddbc1e9b32b7e70d41ad3acb2', 'mtime': 1632547688, 'name': 'MOD04_3K.A2021001.1935.061.2021268052631.hdf', 'products': 'MOD04_3K', 'resourceType': 'File', 'self': '/api/v2/content/details/MOD04_3K.A2021001.1935.061.2021268052631.hdf', 'size': 3370155}, {'archiveSets': 61, 'cksum': '2438416491', 'collections': '61', 'dataDay': '2021-001 = 2021-01-01', 'downloadsLink': 'https://ladsweb.modaps.eosdis.nasa.gov/api/v2/content/archives/MOD04_3K.A2021001.1610.061.2021268052722.hdf', 'fileId': 6505400915, 'illuminations': 'B', 'md5sum': 'd77cc8f3b86dd58137572e7d8eb16583', 'mtime': 1632547748, 'name': 'MOD04_3K.A2021001.1610.061.2021268052722.hdf', 'products': 'MOD04_3K', 'resourceType': 'File', 'self': '/api/v2/content/details/MOD04_3K.A2021001.1610.061.2021268052722.hdf', 'size': 3985524}, {'archiveSets': 61, 'cksum': '910662007', 'collections': '61', 'dataDay': '2021-001 = 2021-01-01', 'downloadsLink': 'https://ladsweb.modaps.eosdis.nasa.gov/api/v2/content/archives/MOD04_3K.A2021001.0435.061.2021268052004.hdf', 'fileId': 6505392366, 'illuminations': 'D', 'md5sum': '422e6f16fff76ebb8b6b8b1b9ce482ab', 'mtime': 1632547290, 'name': 'MOD04_3K.A2021001.0435.061.2021268052004.hdf', 'products': 'MOD04_3K', 'resourceType': 'File', 'self': '/api/v2/content/details/MOD04_3K.A2021001.0435.061.2021268052004.hdf', 'size': 4191432}, {'archiveSets': 61, 'cksum': '1936820356', 'collections': '61', 'dataDay': '2021-001 = 2021-01-01', 'downloadsLink': 'https://ladsweb.modaps.eosdis.nasa.gov/api/v2/content/archives/MOD04_3K.A2021001.1435.061.2021268052201.hdf', 'fileId': 6505395016, 'illuminations': 'B', 'md5sum': '4da8e001cef35a264bf7f2bac274bde1', 'mtime': 1632547410, 'name': 'MOD04_3K.A2021001.1435.061.2021268052201.hdf', 'products': 'MOD04_3K', 'resourceType': 'File', 'self': '/api/v2/content/details/MOD04_3K.A2021001.1435.061.2021268052201.hdf', 'size': 3720729}, {'archiveSets': 61, 'cksum': '1930335839', 'collections': '61', 'dataDay': '2021-001 = 2021-01-01', 'downloadsLink': 'https://ladsweb.modaps.eosdis.nasa.gov/api/v2/content/archives/MOD04_3K.A2021001.0120.061.2021268052118.hdf', 'fileId': 6505394327, 'illuminations': 'D', 'md5sum': 'f4ed8d04b1fe074b486e3697ecdabd31', 'mtime': 1632547390, 'name': 'MOD04_3K.A2021001.0120.061.2021268052118.hdf', 'products': 'MOD04_3K', 'resourceType': 'File', 'self': '/api/v2/content/details/MOD04_3K.A2021001.0120.061.2021268052118.hdf', 'size': 3668502}, {'archiveSets': 61, 'cksum': '4024008697', 'collections': '61', 'dataDay': '2021-001 = 2021-01-01', 'downloadsLink': 'https://ladsweb.modaps.eosdis.nasa.gov/api/v2/content/archives/MOD04_3K.A2021001.2110.061.2021268052520.hdf', 'fileId': 6505398405, 'illuminations': 'B', 'md5sum': '63366af5768bc65ad215a9f3694fd58a', 'mtime': 1632547597, 'name': 'MOD04_3K.A2021001.2110.061.2021268052520.hdf', 'products': 'MOD04_3K', 'resourceType': 'File', 'self': '/api/v2/content/details/MOD04_3K.A2021001.2110.061.2021268052520.hdf', 'size': 3590350}, {'archiveSets': 61, 'cksum': '2118775189', 'collections': '61', 'dataDay': '2021-001 = 2021-01-01', 'downloadsLink': 'https://ladsweb.modaps.eosdis.nasa.gov/api/v2/content/archives/MOD04_3K.A2021001.2245.061.2021268052603.hdf', 'fileId': 6505399461, 'illuminations': 'B', 'md5sum': 'efffaeef9069c914a6cd8300204d0b63', 'mtime': 1632547658, 'name': 'MOD04_3K.A2021001.2245.061.2021268052603.hdf', 'products': 'MOD04_3K', 'resourceType': 'File', 'self': '/api/v2/content/details/MOD04_3K.A2021001.2245.061.2021268052603.hdf', 'size': 3949679}, {'archiveSets': 61, 'cksum': '189226918', 'collections': '61', 'dataDay': '2021-001 = 2021-01-01', 'downloadsLink': 'https://ladsweb.modaps.eosdis.nasa.gov/api/v2/content/archives/MOD04_3K.A2021001.1115.061.2021268052353.hdf', 'fileId': 6505396745, 'illuminations': 'D', 'md5sum': '89e09f449117aba25edf496d3bbb223b', 'mtime': 1632547506, 'name': 'MOD04_3K.A2021001.1115.061.2021268052353.hdf', 'products': 'MOD04_3K', 'resourceType': 'File', 'self': '/api/v2/content/details/MOD04_3K.A2021001.1115.061.2021268052353.hdf', 'size': 3821255}, {'archiveSets': 61, 'cksum': '1637953237', 'collections': '61', 'dataDay': '2021-001 = 2021-01-01', 'downloadsLink': 'https://ladsweb.modaps.eosdis.nasa.gov/api/v2/content/archives/MOD04_3K.A2021001.0440.061.2021268052223.hdf', 'fileId': 6505395008, 'illuminations': 'D', 'md5sum': '6d3b23e92cefc8b5eeb8b016c13eb357', 'mtime': 1632547410, 'name': 'MOD04_3K.A2021001.0440.061.2021268052223.hdf', 'products': 'MOD04_3K', 'resourceType': 'File', 'self': '/api/v2/content/details/MOD04_3K.A2021001.0440.061.2021268052223.hdf', 'size': 3758074}, {'archiveSets': 61, 'cksum': '3141021249', 'collections': '61', 'dataDay': '2021-001 = 2021-01-01', 'downloadsLink': 'https://ladsweb.modaps.eosdis.nasa.gov/api/v2/content/archives/MOD04_3K.A2021001.0300.061.2021268051931.hdf', 'fileId': 6505391668, 'illuminations': 'B', 'md5sum': 'c703fa9ce1456cacaf94520293bb3455', 'mtime': 1632547260, 'name': 'MOD04_3K.A2021001.0300.061.2021268051931.hdf', 'products': 'MOD04_3K', 'resourceType': 'File', 'self': '/api/v2/content/details/MOD04_3K.A2021001.0300.061.2021268051931.hdf', 'size': 3698308}], 'downloadsLink': 'https://ladsweb.modaps.eosdis.nasa.gov/http:/ladsweb.modaps.eosdis.nasa.gov/api/v2/content/archives?products=MOD04_3K&temporalRanges=2021-01-01..2021-12-31&regions=%5BBBOX%5DW39.297513689179766+N-76.60452476968938+E39.297952310820236+S-76.60468123031062&page=1', 'file_count': 17, 'mtime': 1687572275, 'n_pages': 365, 'name': '', 'nextPageLink': 'http://ladsweb.modaps.eosdis.nasa.gov/api/v2/content/details?products=MOD04_3K&temporalRanges=2021-01-01..2021-12-31&regions=%5BBBOX%5DW39.297513689179766+N-76.60452476968938+E39.297952310820236+S-76.60468123031062&page=2', 'page': 1, 'resourceType': 'Directory', 'self': 'http:/ladsweb.modaps.eosdis.nasa.gov/api/v2/content/details?products=MOD04_3K&temporalRanges=2021-01-01..2021-12-31&regions=%5BBBOX%5DW39.297513689179766+N-76.60452476968938+E39.297952310820236+S-76.60468123031062&page=1', 'size': 0}\n"
     ]
    }
   ],
   "source": [
    "bdate = '2023-05-26'\n",
    "edate = '2023-06-09'\n",
    "\n",
    "for target in targets:\n",
    "    temp = pd.read_csv(target)\n",
    "    sites = list(set(temp['site_number']))\n",
    "    \n",
    "    for site in sites:\n",
    "        lat = temp['latitude'][temp['site_number'] == site][0]\n",
    "        long = temp['longitude'][temp['site_number'] == site][0]\n",
    "        \n",
    "        bdate = (min(temp['date_local'][temp['site_number'] == site]))\n",
    "        edate = (max(temp['date_local'][temp['site_number'] == site]))\n",
    "        \n",
    "        box = make_box(lat, long)\n",
    "        \n",
    "        modis_api = 'https://ladsweb.modaps.eosdis.nasa.gov/api/v2/content/details?products=MOD04_3K&temporalRanges={}..{}&regions=[BBOX]{}'.format(bdate, edate, box)\n",
    "        response = requests.get(modis_api)\n",
    "        data = response.json()\n",
    "        \n",
    "        print(data)\n",
    "        \n",
    "        hdfs = []\n",
    "        for i in range(len(data['content'])):\n",
    "            hdfs.append(data['content'][i]['downloadsLink'])"
   ]
  },
  {
   "cell_type": "code",
   "execution_count": 6,
   "id": "852d96aa-e171-42d7-afce-2cb25c0d1a0c",
   "metadata": {
    "tags": []
   },
   "outputs": [
    {
     "data": {
      "text/plain": [
       "['https://ladsweb.modaps.eosdis.nasa.gov/api/v2/content/archives/MOD04_3K.A2021001.0615.061.2021268052118.hdf',\n",
       " 'https://ladsweb.modaps.eosdis.nasa.gov/api/v2/content/archives/MOD04_3K.A2021001.1930.061.2021268052428.hdf',\n",
       " 'https://ladsweb.modaps.eosdis.nasa.gov/api/v2/content/archives/MOD04_3K.A2021001.0935.061.2021268052417.hdf',\n",
       " 'https://ladsweb.modaps.eosdis.nasa.gov/api/v2/content/archives/MOD04_3K.A2021001.1750.061.2021268052600.hdf',\n",
       " 'https://ladsweb.modaps.eosdis.nasa.gov/api/v2/content/archives/MOD04_3K.A2021001.0755.061.2021268052005.hdf',\n",
       " 'https://ladsweb.modaps.eosdis.nasa.gov/api/v2/content/archives/MOD04_3K.A2021001.1255.061.2021268052226.hdf',\n",
       " 'https://ladsweb.modaps.eosdis.nasa.gov/api/v2/content/archives/MOD04_3K.A2021001.0620.061.2021268052102.hdf',\n",
       " 'https://ladsweb.modaps.eosdis.nasa.gov/api/v2/content/archives/MOD04_3K.A2021001.1935.061.2021268052631.hdf',\n",
       " 'https://ladsweb.modaps.eosdis.nasa.gov/api/v2/content/archives/MOD04_3K.A2021001.1610.061.2021268052722.hdf',\n",
       " 'https://ladsweb.modaps.eosdis.nasa.gov/api/v2/content/archives/MOD04_3K.A2021001.0435.061.2021268052004.hdf',\n",
       " 'https://ladsweb.modaps.eosdis.nasa.gov/api/v2/content/archives/MOD04_3K.A2021001.1435.061.2021268052201.hdf',\n",
       " 'https://ladsweb.modaps.eosdis.nasa.gov/api/v2/content/archives/MOD04_3K.A2021001.0120.061.2021268052118.hdf',\n",
       " 'https://ladsweb.modaps.eosdis.nasa.gov/api/v2/content/archives/MOD04_3K.A2021001.2110.061.2021268052520.hdf',\n",
       " 'https://ladsweb.modaps.eosdis.nasa.gov/api/v2/content/archives/MOD04_3K.A2021001.2245.061.2021268052603.hdf',\n",
       " 'https://ladsweb.modaps.eosdis.nasa.gov/api/v2/content/archives/MOD04_3K.A2021001.1115.061.2021268052353.hdf',\n",
       " 'https://ladsweb.modaps.eosdis.nasa.gov/api/v2/content/archives/MOD04_3K.A2021001.0440.061.2021268052223.hdf',\n",
       " 'https://ladsweb.modaps.eosdis.nasa.gov/api/v2/content/archives/MOD04_3K.A2021001.0300.061.2021268051931.hdf']"
      ]
     },
     "execution_count": 6,
     "metadata": {},
     "output_type": "execute_result"
    }
   ],
   "source": [
    "hdfs"
   ]
  },
  {
   "cell_type": "code",
   "execution_count": 7,
   "id": "3baa9cff-5561-4fbc-91ae-d6ccf9c4879d",
   "metadata": {
    "tags": []
   },
   "outputs": [],
   "source": [
    "import requests as r\n",
    "import getpass, pprint, time, os, cgi, json\n",
    "\n",
    "inDir = '.'           # IMPORTANT: Update to reflect directory on your OS\n",
    "os.chdir(inDir)                                      # Change to working directory\n",
    "api = 'https://appeears.earthdatacloud.nasa.gov/api/'  # Set the AρρEEARS API to a variable"
   ]
  },
  {
   "cell_type": "code",
   "execution_count": 8,
   "id": "fb05b905-86af-4046-b8fb-8a12f0c76837",
   "metadata": {
    "tags": []
   },
   "outputs": [
    {
     "data": {
      "text/plain": [
       "{'token_type': 'Bearer',\n",
       " 'token': 'LG3lcEqpTtCA7jA-DHB36Rm_Rlswx52bw1Svis1PlS6A6nJ58ACJfXoqt5cOY_CSoY6c6df7RVYw9AVcLKROtw',\n",
       " 'expiration': '2023-06-26T02:04:42Z'}"
      ]
     },
     "execution_count": 8,
     "metadata": {},
     "output_type": "execute_result"
    }
   ],
   "source": [
    "token_response = r.post('{}login'.format(api), auth=(user, nasapass)).json() # Insert API URL, call login service, provide credentials & return json\n",
    "#del user, nasapass                                                           # Remove user and password information\n",
    "token_response                                                               # Print response"
   ]
  },
  {
   "cell_type": "code",
   "execution_count": 9,
   "id": "f40832a9-70b7-4225-a0e0-ebd70fded2e9",
   "metadata": {
    "tags": []
   },
   "outputs": [
    {
     "name": "stdout",
     "output_type": "stream",
     "text": [
      "AρρEEARS currently supports 169 products.\n"
     ]
    }
   ],
   "source": [
    "product_response = r.get('{}product'.format(api)).json()                         # request all products in the product service\n",
    "print('AρρEEARS currently supports {} products.'.format(len(product_response)))  # Print no. products available in AppEEARS"
   ]
  },
  {
   "cell_type": "code",
   "execution_count": 10,
   "id": "28024f36-1d90-470d-ad33-94f0acb15cdf",
   "metadata": {
    "tags": []
   },
   "outputs": [],
   "source": [
    "#product_response"
   ]
  },
  {
   "cell_type": "code",
   "execution_count": 11,
   "id": "cdc76ec2-a6ff-46ac-9929-276c6c62ea62",
   "metadata": {
    "tags": []
   },
   "outputs": [
    {
     "name": "stdout",
     "output_type": "stream",
     "text": [
      "dict_keys(['GPW_DataQualityInd.411', 'GPW_UN_Adj_PopCount.411', 'GPW_UN_Adj_PopDensity.411', 'GPW_Basic_Demog_Char.411', 'MCD12Q1.006', 'MCD12Q2.006', 'MCD12Q1.061', 'MCD12Q2.061', 'MCD15A2H.006', 'MCD15A2H.061', 'MCD15A3H.006', 'MCD15A3H.061', 'MCD43A1.006', 'MCD43A1.061', 'MCD43A2.061', 'MCD43A3.006', 'MCD43A3.061', 'MCD43A4.006', 'MCD43A4.061', 'MCD64A1.006', 'MCD64A1.061', 'MOD09A1.006', 'MOD09A1.061', 'MOD09GA.006', 'MOD09GA.061', 'MOD09GQ.006', 'MOD09GQ.061', 'MOD09Q1.006', 'MOD09Q1.061', 'MOD10A1.006', 'MOD10A1.061', 'MOD10A2.006', 'MOD10A2.061', 'MOD11A1.006', 'MOD11A1.061', 'MOD11A2.006', 'MOD11A2.061', 'MOD13A1.006', 'MOD13A1.061', 'MOD13A2.006', 'MOD13A2.061', 'MOD13A3.006', 'MOD13A3.061', 'MOD13Q1.006', 'MOD13Q1.061', 'MOD14A2.006', 'MOD14A2.061', 'MOD15A2H.006', 'MOD15A2H.061', 'MOD16A2.006', 'MOD16A2.061', 'MOD16A2GF.006', 'MOD16A2GF.061', 'MOD16A3GF.006', 'MOD16A3GF.061', 'MOD17A2H.006', 'MOD17A2H.061', 'MOD17A2HGF.006', 'MOD17A2HGF.061', 'MOD17A3HGF.006', 'MOD17A3HGF.061', 'MOD21A1D.061', 'MOD21A1N.061', 'MOD21A2.061', 'MOD44B.006', 'MOD44W.006', 'MODOCGA.006', 'MODTBGA.006', 'MYD09A1.006', 'MYD09A1.061', 'MYD09GA.006', 'MYD09GA.061', 'MYD09GQ.006', 'MYD09GQ.061', 'MYD09Q1.006', 'MYD09Q1.061', 'MYD10A1.006', 'MYD10A1.061', 'MYD10A2.006', 'MYD10A2.061', 'MYD11A1.006', 'MYD11A1.061', 'MYD11A2.006', 'MYD11A2.061', 'MYD13A1.006', 'MYD13A1.061', 'MYD13A2.006', 'MYD13A2.061', 'MYD13A3.061', 'MYD13A3.006', 'MYD13Q1.006', 'MYD13Q1.061', 'MYD14A2.006', 'MYD14A2.061', 'MYD15A2H.006', 'MYD15A2H.061', 'MYD16A2.006', 'MYD16A2.061', 'MYD16A2GF.006', 'MYD16A2GF.061', 'MYD16A3GF.006', 'MYD16A3GF.061', 'MYD17A2H.006', 'MYD17A2H.061', 'MYD17A2HGF.006', 'MYD17A2HGF.061', 'MYD17A3HGF.006', 'MYD17A3HGF.061', 'MYD21A1D.006', 'MYD21A1D.061', 'MYD21A1N.006', 'MYD21A1N.061', 'MYD21A2.006', 'MYD21A2.061', 'MYDOCGA.006', 'MYDTBGA.006', 'NASADEM_NC.001', 'NASADEM_NUMNC.001', 'SPL3SMP_E.005', 'SPL3SMP.008', 'SPL4CMDL.006', 'SPL4SMGP.006', 'SPL3FTP.003', 'SRTMGL1_NC.003', 'SRTMGL1_NUMNC.003', 'SRTMGL3_NC.003', 'SRTMGL3_NUMNC.003', 'ASTGTM_NC.003', 'ASTGTM_NUMNC.003', 'ASTWBD_ATTNC.001', 'ASTWBD_NC.001', 'VNP09H1.001', 'VNP09A1.001', 'VNP09GA.001', 'VNP13A1.001', 'VNP13A2.001', 'VNP13A3.001', 'VNP14A1.001', 'VNP15A2H.001', 'VNP21A1D.001', 'VNP21A1N.001', 'VNP21A2.001', 'VNP22Q2.001', 'VNP43IA1.001', 'VNP43IA2.001', 'VNP43IA3.001', 'VNP43IA4.001', 'VNP43MA1.001', 'VNP43MA2.001', 'VNP43MA3.001', 'VNP43MA4.001', 'DAYMET.004', 'ECO2LSTE.001', 'ECO2CLD.001', 'ECO3ETPTJPL.001', 'ECO3ANCQA.001', 'ECO4ESIPTJPL.001', 'ECO4WUE.001', 'ECO1BGEO.001', 'ECO1BMAPRAD.001', 'ECO3ETALEXI.001', 'ECO4ESIALEXI.001', 'ECO_L1B_GEO.002', 'ECO_L2_CLOUD.002', 'ECO_L2_LSTE.002', 'ECO_L2T_LSTE.002', 'HLSS30.020', 'HLSL30.020', 'GEOLST4KHR.002'])\n"
     ]
    }
   ],
   "source": [
    "products = {p['ProductAndVersion']: p for p in product_response} # Create a dictionary indexed by product name & version\n",
    "print(products.keys())"
   ]
  },
  {
   "cell_type": "code",
   "execution_count": 12,
   "id": "9a98d6d6-3483-4b7f-a354-b1cfe1bca762",
   "metadata": {
    "tags": []
   },
   "outputs": [
    {
     "data": {
      "text/plain": [
       "{'Product': 'MOD09GA',\n",
       " 'Platform': 'Terra MODIS',\n",
       " 'Description': 'Surface Reflectance Bands 1-7',\n",
       " 'RasterType': 'Tile',\n",
       " 'Resolution': '500/1000m',\n",
       " 'TemporalGranularity': 'Daily',\n",
       " 'Version': '061',\n",
       " 'Available': True,\n",
       " 'DocLink': 'https://doi.org/10.5067/MODIS/MOD09GA.061',\n",
       " 'Source': 'LP DAAC',\n",
       " 'TemporalExtentStart': '2000-02-24',\n",
       " 'TemporalExtentEnd': 'Present',\n",
       " 'Deleted': False,\n",
       " 'DOI': '10.5067/MODIS/MOD09GA.061',\n",
       " 'Info': {},\n",
       " 'ProductAndVersion': 'MOD09GA.061'}"
      ]
     },
     "execution_count": 12,
     "metadata": {},
     "output_type": "execute_result"
    }
   ],
   "source": [
    "products['MOD09GA.061']"
   ]
  },
  {
   "cell_type": "code",
   "execution_count": null,
   "id": "73ab016c-31d3-4538-9b19-694f280b37c9",
   "metadata": {},
   "outputs": [],
   "source": []
  },
  {
   "cell_type": "code",
   "execution_count": 22,
   "id": "2934064b-00c2-474f-81b5-36eb98c4b67c",
   "metadata": {
    "tags": []
   },
   "outputs": [
    {
     "name": "stdout",
     "output_type": "stream",
     "text": [
      "Cell_Across_Swath:mod04\n",
      "<class 'h5py._hl.dataset.Dataset'>\n",
      "Cell_Along_Swath:mod04\n",
      "<class 'h5py._hl.dataset.Dataset'>\n",
      "MODIS_Band_Land:mod04\n",
      "<class 'h5py._hl.dataset.Dataset'>\n",
      "MODIS_Band_Ocean:mod04\n",
      "<class 'h5py._hl.dataset.Dataset'>\n",
      "QA_Byte_Land:mod04\n",
      "<class 'h5py._hl.dataset.Dataset'>\n",
      "QA_Byte_Ocean:mod04\n",
      "<class 'h5py._hl.dataset.Dataset'>\n",
      "Solution_1_Land:mod04\n",
      "<class 'h5py._hl.dataset.Dataset'>\n",
      "Solution_2_Land:mod04\n",
      "<class 'h5py._hl.dataset.Dataset'>\n",
      "Solution_3_Land:mod04\n",
      "<class 'h5py._hl.dataset.Dataset'>\n",
      "Solution_Index:mod04\n",
      "<class 'h5py._hl.dataset.Dataset'>\n",
      "Solution_Ocean:mod04\n",
      "<class 'h5py._hl.dataset.Dataset'>\n",
      "mod04\n",
      "<class 'h5py._hl.group.Group'>\n"
     ]
    }
   ],
   "source": [
    "import h5py\n",
    "\n",
    "filename = './MOD04_3K.A2021001.1115.061.2021268052353.h5'\n",
    "\n",
    "f = h5py.File(filename)\n",
    "\n",
    "for key in f.keys():\n",
    "    print(key) #Names of the root level object names in HDF5 file - can be groups or datasets.\n",
    "    print(type(f[key])) # get the object type: usually group or dataset\n"
   ]
  },
  {
   "cell_type": "code",
   "execution_count": 31,
   "id": "e803e2ca-ec51-4a4f-9e24-331f7b78f230",
   "metadata": {
    "tags": []
   },
   "outputs": [
    {
     "data": {
      "text/plain": [
       "array([0., 0., 0., 0., 0., 0., 0., 0., 0., 0., 0., 0., 0., 0., 0., 0., 0.,\n",
       "       0., 0., 0., 0., 0., 0., 0., 0., 0., 0., 0., 0., 0., 0., 0., 0., 0.,\n",
       "       0., 0., 0., 0., 0., 0., 0., 0., 0., 0., 0., 0., 0., 0., 0., 0., 0.,\n",
       "       0., 0., 0., 0., 0., 0., 0., 0., 0., 0., 0., 0., 0., 0., 0., 0., 0.,\n",
       "       0., 0., 0., 0., 0., 0., 0., 0., 0., 0., 0., 0., 0., 0., 0., 0., 0.,\n",
       "       0., 0., 0., 0., 0., 0., 0., 0., 0., 0., 0., 0., 0., 0., 0., 0., 0.,\n",
       "       0., 0., 0., 0., 0., 0., 0., 0., 0., 0., 0., 0., 0., 0., 0., 0., 0.,\n",
       "       0., 0., 0., 0., 0., 0., 0., 0., 0., 0., 0., 0., 0., 0., 0., 0., 0.,\n",
       "       0., 0., 0., 0., 0., 0., 0., 0., 0., 0., 0., 0., 0., 0., 0., 0., 0.,\n",
       "       0., 0., 0., 0., 0., 0., 0., 0., 0., 0., 0., 0., 0., 0., 0., 0., 0.,\n",
       "       0., 0., 0., 0., 0., 0., 0., 0., 0., 0., 0., 0., 0., 0., 0., 0., 0.,\n",
       "       0., 0., 0., 0., 0., 0., 0., 0., 0., 0., 0., 0., 0., 0., 0., 0., 0.,\n",
       "       0., 0., 0., 0., 0., 0., 0., 0., 0., 0., 0., 0., 0., 0., 0., 0., 0.,\n",
       "       0., 0., 0., 0., 0., 0., 0., 0., 0., 0., 0., 0., 0., 0., 0., 0., 0.,\n",
       "       0., 0., 0., 0., 0., 0., 0., 0., 0., 0., 0., 0., 0., 0., 0., 0., 0.,\n",
       "       0., 0., 0., 0., 0., 0., 0., 0., 0., 0., 0., 0., 0., 0., 0., 0., 0.,\n",
       "       0., 0., 0., 0., 0., 0., 0., 0., 0., 0., 0., 0., 0., 0., 0., 0., 0.,\n",
       "       0., 0., 0., 0., 0., 0., 0., 0., 0., 0., 0., 0., 0., 0., 0., 0., 0.,\n",
       "       0., 0., 0., 0., 0., 0., 0., 0., 0., 0., 0., 0., 0., 0., 0., 0., 0.,\n",
       "       0., 0., 0., 0., 0., 0., 0., 0., 0., 0., 0., 0., 0., 0., 0., 0., 0.,\n",
       "       0., 0., 0., 0., 0., 0., 0., 0., 0., 0., 0., 0., 0., 0., 0., 0., 0.,\n",
       "       0., 0., 0., 0., 0., 0., 0., 0., 0., 0., 0., 0., 0., 0., 0., 0., 0.,\n",
       "       0., 0., 0., 0., 0., 0., 0., 0., 0., 0., 0., 0., 0., 0., 0., 0., 0.,\n",
       "       0., 0., 0., 0., 0., 0., 0., 0., 0., 0., 0., 0., 0., 0., 0., 0., 0.,\n",
       "       0., 0., 0., 0., 0., 0., 0., 0., 0., 0., 0., 0., 0., 0., 0., 0., 0.,\n",
       "       0., 0., 0., 0., 0., 0., 0., 0., 0., 0., 0., 0., 0., 0., 0., 0., 0.,\n",
       "       0., 0., 0., 0., 0., 0., 0., 0., 0.], dtype=float32)"
      ]
     },
     "execution_count": 31,
     "metadata": {},
     "output_type": "execute_result"
    }
   ],
   "source": []
  },
  {
   "cell_type": "code",
   "execution_count": 14,
   "id": "bbdc61f0-b764-44aa-b9c3-a8aa2aeb7dab",
   "metadata": {
    "tags": []
   },
   "outputs": [
    {
     "name": "stdout",
     "output_type": "stream",
     "text": [
      "Data Fields\n",
      "Geolocation Fields\n",
      "Swath Attributes\n"
     ]
    }
   ],
   "source": [
    "#Get the HDF5 group; key needs to be a group name from above\n",
    "group = f[key]\n",
    "\n",
    "#Checkout what keys are inside that group.\n",
    "for key in group.keys():\n",
    "    print(key)"
   ]
  },
  {
   "cell_type": "code",
   "execution_count": 15,
   "id": "6dc5c340-72dd-4561-8730-f34cb37f121e",
   "metadata": {
    "tags": []
   },
   "outputs": [
    {
     "data": {
      "text/plain": [
       "array([[-68.86022 , -68.980736, -69.09829 , ..., -80.51433 , -80.48345 ,\n",
       "        -80.4501  ],\n",
       "       [-68.88531 , -69.00572 , -69.12317 , ..., -80.567345, -80.53674 ,\n",
       "        -80.5037  ],\n",
       "       [-68.910164, -69.03048 , -69.147835, ..., -80.62031 , -80.59001 ,\n",
       "        -80.55727 ],\n",
       "       ...,\n",
       "       [-69.14676 , -69.268394, -69.38705 , ..., -81.08495 , -81.05278 ,\n",
       "        -81.01788 ],\n",
       "       [-69.12348 , -69.2452  , -69.36394 , ..., -81.032   , -80.99954 ,\n",
       "        -80.96448 ],\n",
       "       [-69.09999 , -69.221794, -69.34061 , ..., -80.97901 , -80.94621 ,\n",
       "        -80.910995]], dtype=float32)"
      ]
     },
     "execution_count": 15,
     "metadata": {},
     "output_type": "execute_result"
    }
   ],
   "source": [
    "# This assumes group[some_key_inside_the_group] is a dataset, \n",
    "# and returns a np.array:\n",
    "data1 = group['Geolocation Fields']\n",
    "#Do whatever you want with data\n",
    "\n",
    "data1['Latitude'][:]"
   ]
  },
  {
   "cell_type": "code",
   "execution_count": 18,
   "id": "9ab17fc4-2b3a-43b7-a268-4ea63d2256d2",
   "metadata": {
    "tags": []
   },
   "outputs": [
    {
     "name": "stdout",
     "output_type": "stream",
     "text": [
      "Aerosol_Cloud_Fraction_Land\n",
      "Aerosol_Cloud_Fraction_Ocean\n",
      "Aerosol_Type_Land\n",
      "Angstrom_Exponent_1_Ocean\n",
      "Angstrom_Exponent_2_Ocean\n",
      "Asymmetry_Factor_Average_Ocean\n",
      "Asymmetry_Factor_Best_Ocean\n",
      "Backscattering_Ratio_Average_Ocean\n",
      "Backscattering_Ratio_Best_Ocean\n",
      "BowTie_Flag\n",
      "Corrected_Optical_Depth_Land\n",
      "Corrected_Optical_Depth_Land_wav2p1\n",
      "Effective_Optical_Depth_Average_Ocean\n",
      "Effective_Optical_Depth_Best_Ocean\n",
      "Effective_Radius_Ocean\n",
      "Fitting_Error_Land\n",
      "Glint_Angle\n",
      "Image_Optical_Depth_Land_And_Ocean\n",
      "Land_Ocean_Quality_Flag\n",
      "Land_sea_Flag\n",
      "Least_Squares_Error_Ocean\n",
      "MODIS_Band_Land\n",
      "MODIS_Band_Land_t\n",
      "MODIS_Band_Ocean\n",
      "MODIS_Band_Ocean_t\n",
      "Mass_Concentration_Land\n",
      "Mass_Concentration_Ocean\n",
      "Mean_Reflectance_Land\n",
      "Mean_Reflectance_Ocean\n",
      "Number_Pixels_Used_Land\n",
      "Number_Pixels_Used_Ocean\n",
      "Optical_Depth_Land_And_Ocean\n",
      "Optical_Depth_Large_Average_Ocean\n",
      "Optical_Depth_Large_Best_Ocean\n",
      "Optical_Depth_Ratio_Small_Land\n",
      "Optical_Depth_Ratio_Small_Ocean_0.55micron\n",
      "Optical_Depth_Small_Average_Ocean\n",
      "Optical_Depth_Small_Best_Ocean\n",
      "Optical_Depth_by_models_ocean\n",
      "PSML003_Ocean\n",
      "Quality_Assurance_Land\n",
      "Quality_Assurance_Ocean\n",
      "STD_Reflectance_Land\n",
      "STD_Reflectance_Ocean\n",
      "Scan_Start_Time\n",
      "Scattering_Angle\n",
      "Sensor_Azimuth\n",
      "Sensor_Zenith\n",
      "Solar_Azimuth\n",
      "Solar_Zenith\n",
      "Solution_1_Land\n",
      "Solution_1_Land_t\n",
      "Solution_2_Land\n",
      "Solution_2_Land_t\n",
      "Solution_3_Land\n",
      "Solution_3_Land_t\n",
      "Solution_Index\n",
      "Solution_Index_Ocean_Large\n",
      "Solution_Index_Ocean_Small\n",
      "Solution_Index_t\n",
      "Solution_Ocean\n",
      "Solution_Ocean_t\n",
      "Surface_Reflectance_Land\n",
      "Topographic_Altitude_Land\n",
      "Wind_Speed_Ncep_Ocean\n",
      "[-9999 -9999 -9999 -9999 -9999 -9999 -9999 -9999 -9999 -9999 -9999 -9999\n",
      " -9999 -9999 -9999 -9999 -9999 -9999 -9999 -9999 -9999 -9999 -9999 -9999\n",
      " -9999 -9999 -9999 -9999 -9999 -9999 -9999 -9999 -9999 -9999 -9999 -9999\n",
      " -9999 -9999 -9999 -9999 -9999 -9999 -9999 -9999 -9999 -9999 -9999 -9999\n",
      " -9999 -9999 -9999 -9999 -9999 -9999 -9999 -9999 -9999 -9999 -9999 -9999\n",
      " -9999 -9999 -9999 -9999 -9999 -9999 -9999 -9999 -9999 -9999 -9999 -9999\n",
      " -9999 -9999 -9999 -9999 -9999 -9999 -9999 -9999 -9999 -9999 -9999 -9999\n",
      " -9999 -9999 -9999 -9999 -9999 -9999 -9999 -9999 -9999 -9999 -9999 -9999\n",
      " -9999 -9999 -9999 -9999 -9999 -9999 -9999 -9999 -9999 -9999 -9999 -9999\n",
      " -9999 -9999 -9999 -9999 -9999 -9999 -9999 -9999 -9999 -9999 -9999 -9999\n",
      " -9999 -9999 -9999 -9999 -9999 -9999 -9999 -9999 -9999 -9999 -9999 -9999\n",
      " -9999 -9999 -9999 -9999 -9999 -9999 -9999 -9999 -9999 -9999 -9999 -9999\n",
      " -9999 -9999 -9999 -9999 -9999 -9999 -9999 -9999 -9999 -9999 -9999 -9999\n",
      " -9999 -9999 -9999 -9999 -9999 -9999 -9999 -9999 -9999 -9999 -9999 -9999\n",
      " -9999 -9999 -9999 -9999 -9999 -9999 -9999 -9999 -9999 -9999 -9999 -9999\n",
      " -9999 -9999 -9999 -9999 -9999 -9999 -9999 -9999 -9999 -9999 -9999 -9999\n",
      " -9999 -9999 -9999 -9999 -9999 -9999 -9999 -9999 -9999 -9999 -9999 -9999\n",
      " -9999 -9999 -9999 -9999 -9999 -9999 -9999 -9999 -9999 -9999 -9999 -9999\n",
      " -9999 -9999 -9999 -9999 -9999 -9999 -9999 -9999 -9999 -9999 -9999 -9999\n",
      " -9999 -9999 -9999 -9999 -9999 -9999 -9999 -9999 -9999 -9999 -9999 -9999\n",
      " -9999 -9999 -9999 -9999 -9999 -9999 -9999 -9999 -9999 -9999 -9999 -9999\n",
      " -9999 -9999 -9999 -9999 -9999 -9999 -9999 -9999 -9999 -9999 -9999 -9999\n",
      " -9999 -9999 -9999 -9999 -9999 -9999 -9999 -9999 -9999 -9999 -9999 -9999\n",
      " -9999 -9999 -9999 -9999 -9999 -9999 -9999 -9999 -9999 -9999 -9999 -9999\n",
      " -9999 -9999 -9999 -9999 -9999 -9999 -9999 -9999 -9999 -9999 -9999 -9999\n",
      " -9999 -9999 -9999 -9999 -9999 -9999 -9999 -9999 -9999 -9999 -9999 -9999\n",
      " -9999 -9999 -9999 -9999 -9999 -9999 -9999 -9999 -9999 -9999 -9999 -9999\n",
      " -9999 -9999 -9999 -9999 -9999 -9999 -9999 -9999 -9999 -9999 -9999 -9999\n",
      " -9999 -9999 -9999 -9999 -9999 -9999 -9999 -9999 -9999 -9999 -9999 -9999\n",
      " -9999 -9999 -9999 -9999 -9999 -9999 -9999 -9999 -9999 -9999 -9999 -9999\n",
      " -9999 -9999 -9999 -9999 -9999 -9999 -9999 -9999 -9999 -9999 -9999 -9999\n",
      " -9999 -9999 -9999 -9999 -9999 -9999 -9999 -9999 -9999 -9999 -9999 -9999\n",
      " -9999 -9999 -9999 -9999 -9999 -9999 -9999 -9999 -9999 -9999 -9999 -9999\n",
      " -9999 -9999 -9999 -9999 -9999 -9999 -9999 -9999 -9999 -9999 -9999 -9999\n",
      " -9999 -9999 -9999 -9999 -9999 -9999 -9999 -9999 -9999 -9999 -9999 -9999\n",
      " -9999 -9999 -9999 -9999 -9999 -9999 -9999 -9999 -9999 -9999 -9999 -9999\n",
      " -9999 -9999 -9999 -9999 -9999 -9999 -9999 -9999 -9999 -9999 -9999 -9999\n",
      " -9999 -9999 -9999 -9999 -9999 -9999 -9999]\n"
     ]
    }
   ],
   "source": [
    "# This assumes group[some_key_inside_the_group] is a dataset, \n",
    "# and returns a np.array:\n",
    "data2 = group['Data Fields']\n",
    "#Do whatever you want with data\n",
    "\n",
    "for key in data2.keys():\n",
    "    print(key)\n",
    "    \n",
    "print(data2['Optical_Depth_Large_Best_Ocean'][0][0])"
   ]
  },
  {
   "cell_type": "code",
   "execution_count": 17,
   "id": "cab09052-b6d7-4c12-b3d1-01da957f2d60",
   "metadata": {
    "tags": []
   },
   "outputs": [
    {
     "name": "stdout",
     "output_type": "stream",
     "text": [
      "_FV_Aerosol_Cloud_Fraction_Land\n",
      "_FV_Aerosol_Cloud_Fraction_Land_t\n",
      "_FV_Aerosol_Cloud_Fraction_Ocean\n",
      "_FV_Aerosol_Cloud_Fraction_Ocean_t\n",
      "_FV_Aerosol_Type_Land\n",
      "_FV_Aerosol_Type_Land_t\n",
      "_FV_Angstrom_Exponent_1_Ocean\n",
      "_FV_Angstrom_Exponent_1_Ocean_t\n",
      "_FV_Angstrom_Exponent_2_Ocean\n",
      "_FV_Angstrom_Exponent_2_Ocean_t\n",
      "_FV_Asymmetry_Factor_Average_Ocean\n",
      "_FV_Asymmetry_Factor_Average_Ocean_t\n",
      "_FV_Asymmetry_Factor_Best_Ocean\n",
      "_FV_Asymmetry_Factor_Best_Ocean_t\n",
      "_FV_Backscattering_Ratio_Average_Ocean\n",
      "_FV_Backscattering_Ratio_Average_Ocean_t\n",
      "_FV_Backscattering_Ratio_Best_Ocean\n",
      "_FV_Backscattering_Ratio_Best_Ocean_t\n",
      "_FV_BowTie_Flag\n",
      "_FV_BowTie_Flag_t\n",
      "_FV_Corrected_Optical_Depth_Land\n",
      "_FV_Corrected_Optical_Depth_Land_t\n",
      "_FV_Corrected_Optical_Depth_Land_wav2p1\n",
      "_FV_Corrected_Optical_Depth_Land_wav2p1_t\n",
      "_FV_Effective_Optical_Depth_Average_Ocean\n",
      "_FV_Effective_Optical_Depth_Average_Ocean_t\n",
      "_FV_Effective_Optical_Depth_Best_Ocean\n",
      "_FV_Effective_Optical_Depth_Best_Ocean_t\n",
      "_FV_Effective_Radius_Ocean\n",
      "_FV_Effective_Radius_Ocean_t\n",
      "_FV_Fitting_Error_Land\n",
      "_FV_Fitting_Error_Land_t\n",
      "_FV_Glint_Angle\n",
      "_FV_Glint_Angle_t\n",
      "_FV_Image_Optical_Depth_Land_And_Ocean\n",
      "_FV_Image_Optical_Depth_Land_And_Ocean_t\n",
      "_FV_Land_Ocean_Quality_Flag\n",
      "_FV_Land_Ocean_Quality_Flag_t\n",
      "_FV_Land_sea_Flag\n",
      "_FV_Land_sea_Flag_t\n",
      "_FV_Latitude\n",
      "_FV_Latitude_t\n",
      "_FV_Least_Squares_Error_Ocean\n",
      "_FV_Least_Squares_Error_Ocean_t\n",
      "_FV_Longitude\n",
      "_FV_Longitude_t\n",
      "_FV_Mass_Concentration_Land\n",
      "_FV_Mass_Concentration_Land_t\n",
      "_FV_Mass_Concentration_Ocean\n",
      "_FV_Mass_Concentration_Ocean_t\n",
      "_FV_Mean_Reflectance_Land\n",
      "_FV_Mean_Reflectance_Land_t\n",
      "_FV_Mean_Reflectance_Ocean\n",
      "_FV_Mean_Reflectance_Ocean_t\n",
      "_FV_Number_Pixels_Used_Land\n",
      "_FV_Number_Pixels_Used_Land_t\n",
      "_FV_Number_Pixels_Used_Ocean\n",
      "_FV_Number_Pixels_Used_Ocean_t\n",
      "_FV_Optical_Depth_Land_And_Ocean\n",
      "_FV_Optical_Depth_Land_And_Ocean_t\n",
      "_FV_Optical_Depth_Large_Average_Ocean\n",
      "_FV_Optical_Depth_Large_Average_Ocean_t\n",
      "_FV_Optical_Depth_Large_Best_Ocean\n",
      "_FV_Optical_Depth_Large_Best_Ocean_t\n",
      "_FV_Optical_Depth_Ratio_Small_Land\n",
      "_FV_Optical_Depth_Ratio_Small_Land_t\n",
      "_FV_Optical_Depth_Ratio_Small_Ocean_0.55micron\n",
      "_FV_Optical_Depth_Ratio_Small_Ocean_0.55micron_t\n",
      "_FV_Optical_Depth_Small_Average_Ocean\n",
      "_FV_Optical_Depth_Small_Average_Ocean_t\n",
      "_FV_Optical_Depth_Small_Best_Ocean\n",
      "_FV_Optical_Depth_Small_Best_Ocean_t\n",
      "_FV_Optical_Depth_by_models_ocean\n",
      "_FV_Optical_Depth_by_models_ocean_t\n",
      "_FV_PSML003_Ocean\n",
      "_FV_PSML003_Ocean_t\n",
      "_FV_Quality_Assurance_Land\n",
      "_FV_Quality_Assurance_Land_t\n",
      "_FV_Quality_Assurance_Ocean\n",
      "_FV_Quality_Assurance_Ocean_t\n",
      "_FV_STD_Reflectance_Land\n",
      "_FV_STD_Reflectance_Land_t\n",
      "_FV_STD_Reflectance_Ocean\n",
      "_FV_STD_Reflectance_Ocean_t\n",
      "_FV_Scan_Start_Time\n",
      "_FV_Scan_Start_Time_t\n",
      "_FV_Scattering_Angle\n",
      "_FV_Scattering_Angle_t\n",
      "_FV_Sensor_Azimuth\n",
      "_FV_Sensor_Azimuth_t\n",
      "_FV_Sensor_Zenith\n",
      "_FV_Sensor_Zenith_t\n",
      "_FV_Solar_Azimuth\n",
      "_FV_Solar_Azimuth_t\n",
      "_FV_Solar_Zenith\n",
      "_FV_Solar_Zenith_t\n",
      "_FV_Solution_Index_Ocean_Large\n",
      "_FV_Solution_Index_Ocean_Large_t\n",
      "_FV_Solution_Index_Ocean_Small\n",
      "_FV_Solution_Index_Ocean_Small_t\n",
      "_FV_Surface_Reflectance_Land\n",
      "_FV_Surface_Reflectance_Land_t\n",
      "_FV_Topographic_Altitude_Land\n",
      "_FV_Topographic_Altitude_Land_t\n",
      "_FV_Wind_Speed_Ncep_Ocean\n",
      "_FV_Wind_Speed_Ncep_Ocean_t\n"
     ]
    }
   ],
   "source": [
    "data3 = group['Swath Attributes']\n",
    "\n",
    "for key in data3.keys():\n",
    "    print(key)"
   ]
  },
  {
   "cell_type": "code",
   "execution_count": null,
   "id": "39e13623-33f3-4c3c-a20a-eca4fd1b521d",
   "metadata": {},
   "outputs": [],
   "source": []
  }
 ],
 "metadata": {
  "kernelspec": {
   "display_name": "Python 3 (ipykernel)",
   "language": "python",
   "name": "python3"
  },
  "language_info": {
   "codemirror_mode": {
    "name": "ipython",
    "version": 3
   },
   "file_extension": ".py",
   "mimetype": "text/x-python",
   "name": "python",
   "nbconvert_exporter": "python",
   "pygments_lexer": "ipython3",
   "version": "3.9.0"
  }
 },
 "nbformat": 4,
 "nbformat_minor": 5
}
