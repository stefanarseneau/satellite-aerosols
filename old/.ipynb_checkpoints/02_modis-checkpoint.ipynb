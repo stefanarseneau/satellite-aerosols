{
 "cells": [
  {
   "cell_type": "code",
   "execution_count": 19,
   "id": "04cf90e3-2267-4cdb-8faf-909f4cf469a0",
   "metadata": {
    "tags": []
   },
   "outputs": [],
   "source": [
    "import json\n",
    "import requests\n",
    "import pickle\n",
    "import glob\n",
    "\n",
    "import pandas as pd\n",
    "import matplotlib.pyplot as plt\n",
    "import numpy as np"
   ]
  },
  {
   "cell_type": "code",
   "execution_count": 20,
   "id": "d935c9dc-9abd-400a-be9d-0f9a28cc66ae",
   "metadata": {
    "tags": []
   },
   "outputs": [],
   "source": [
    "with open('creds.txt', 'r') as f:\n",
    "    name, pw, nasapass, token = f.read().split('\\n')"
   ]
  },
  {
   "cell_type": "code",
   "execution_count": 21,
   "id": "01914ca2-8d93-4f5a-a456-7658c2cc7be7",
   "metadata": {
    "tags": []
   },
   "outputs": [],
   "source": [
    "def make_box(lat, lon, side_length = 1):\n",
    "    a = 6378137\n",
    "    b = 6356752.3142\n",
    "    e = 0.00669438000426\n",
    "    \n",
    "    dx = (0.5 * side_length * 1000) / (a * np.cos(lon) / np.sqrt(1 - e*np.sin(lon)**2))\n",
    "    dy = (0.5 * side_length * 1000) / (a * (1 - e) / np.sqrt(1 - e * np.sin(lon)**2)**3)\n",
    "    \n",
    "    return \"W{} N{} E{} S{}\".format(lat-dx, lon+dy, lat+dx, lon-dy)"
   ]
  },
  {
   "cell_type": "code",
   "execution_count": 22,
   "id": "c286c835-c69f-4b89-9d1e-862a89840817",
   "metadata": {
    "tags": []
   },
   "outputs": [],
   "source": [
    "#https://ladsweb.modaps.eosdis.nasa.gov/api/v2/content/details?products=VNP14&temporalRanges=2019-10-23..2019-11-06&regions=[BBOX]W-125 N40 E-119.6 S36.5\n",
    "\n",
    "targets = glob.glob('data/epa/*.csv')"
   ]
  },
  {
   "cell_type": "code",
   "execution_count": 23,
   "id": "deec7c51-a599-43af-875e-215f35c5751d",
   "metadata": {
    "tags": []
   },
   "outputs": [],
   "source": [
    "bdate = '2023-05-26'\n",
    "edate = '2023-06-09'\n",
    "\n",
    "for target in targets:\n",
    "    temp = pd.read_csv(target)\n",
    "    sites = list(set(temp['site_number']))\n",
    "    \n",
    "    for site in sites:\n",
    "        lat = temp['latitude'][temp['site_number'] == site][0]\n",
    "        long = temp['longitude'][temp['site_number'] == site][0]\n",
    "        \n",
    "        bdate = (min(temp['date_local'][temp['site_number'] == site]))\n",
    "        edate = (max(temp['date_local'][temp['site_number'] == site]))\n",
    "        \n",
    "        box = make_box(lat, long)\n",
    "        \n",
    "        modis_api = 'https://ladsweb.modaps.eosdis.nasa.gov/api/v2/content/details?products=MOD04_3K&temporalRanges={}..{}&regions=[BBOX]{}'.format(bdate, edate, box)\n",
    "        response = requests.get(modis_api)\n",
    "        data = response.json()\n",
    "        \n",
    "        hdfs = []\n",
    "        for i in range(len(data['content'])):\n",
    "            hdfs.append(data['content'][i]['downloadsLink'])"
   ]
  },
  {
   "cell_type": "code",
   "execution_count": 24,
   "id": "852d96aa-e171-42d7-afce-2cb25c0d1a0c",
   "metadata": {
    "tags": []
   },
   "outputs": [
    {
     "data": {
      "text/plain": [
       "['https://ladsweb.modaps.eosdis.nasa.gov/api/v2/content/archives/MOD04_3K.A2021001.0755.061.2021268052005.hdf',\n",
       " 'https://ladsweb.modaps.eosdis.nasa.gov/api/v2/content/archives/MOD04_3K.A2021001.0300.061.2021268051931.hdf',\n",
       " 'https://ladsweb.modaps.eosdis.nasa.gov/api/v2/content/archives/MOD04_3K.A2021001.1930.061.2021268052428.hdf',\n",
       " 'https://ladsweb.modaps.eosdis.nasa.gov/api/v2/content/archives/MOD04_3K.A2021001.0935.061.2021268052417.hdf',\n",
       " 'https://ladsweb.modaps.eosdis.nasa.gov/api/v2/content/archives/MOD04_3K.A2021001.1610.061.2021268052722.hdf',\n",
       " 'https://ladsweb.modaps.eosdis.nasa.gov/api/v2/content/archives/MOD04_3K.A2021001.0120.061.2021268052118.hdf',\n",
       " 'https://ladsweb.modaps.eosdis.nasa.gov/api/v2/content/archives/MOD04_3K.A2021001.1750.061.2021268052600.hdf',\n",
       " 'https://ladsweb.modaps.eosdis.nasa.gov/api/v2/content/archives/MOD04_3K.A2021001.0615.061.2021268052118.hdf',\n",
       " 'https://ladsweb.modaps.eosdis.nasa.gov/api/v2/content/archives/MOD04_3K.A2021001.0440.061.2021268052223.hdf',\n",
       " 'https://ladsweb.modaps.eosdis.nasa.gov/api/v2/content/archives/MOD04_3K.A2021001.2110.061.2021268052520.hdf',\n",
       " 'https://ladsweb.modaps.eosdis.nasa.gov/api/v2/content/archives/MOD04_3K.A2021001.0435.061.2021268052004.hdf',\n",
       " 'https://ladsweb.modaps.eosdis.nasa.gov/api/v2/content/archives/MOD04_3K.A2021001.1435.061.2021268052201.hdf',\n",
       " 'https://ladsweb.modaps.eosdis.nasa.gov/api/v2/content/archives/MOD04_3K.A2021001.1255.061.2021268052226.hdf',\n",
       " 'https://ladsweb.modaps.eosdis.nasa.gov/api/v2/content/archives/MOD04_3K.A2021001.0620.061.2021268052102.hdf',\n",
       " 'https://ladsweb.modaps.eosdis.nasa.gov/api/v2/content/archives/MOD04_3K.A2021001.1935.061.2021268052631.hdf',\n",
       " 'https://ladsweb.modaps.eosdis.nasa.gov/api/v2/content/archives/MOD04_3K.A2021001.1115.061.2021268052353.hdf',\n",
       " 'https://ladsweb.modaps.eosdis.nasa.gov/api/v2/content/archives/MOD04_3K.A2021001.2245.061.2021268052603.hdf']"
      ]
     },
     "execution_count": 24,
     "metadata": {},
     "output_type": "execute_result"
    }
   ],
   "source": [
    "hdfs"
   ]
  },
  {
   "cell_type": "code",
   "execution_count": 40,
   "id": "3baa9cff-5561-4fbc-91ae-d6ccf9c4879d",
   "metadata": {
    "tags": []
   },
   "outputs": [],
   "source": [
    "import requests as r\n",
    "import getpass, pprint, time, os, cgi, json\n"
   ]
  },
  {
   "cell_type": "code",
   "execution_count": 41,
   "id": "fb05b905-86af-4046-b8fb-8a12f0c76837",
   "metadata": {
    "tags": []
   },
   "outputs": [
    {
     "name": "stdin",
     "output_type": "stream",
     "text": [
      "Enter NASA Earthdata Login Username:  ········\n",
      "Enter NASA Earthdata Login Password:  ········\n"
     ]
    }
   ],
   "source": [
    "user = \n",
    "password = "
   ]
  },
  {
   "cell_type": "code",
   "execution_count": 42,
   "id": "c5eb1460-e407-4ed3-8be7-c2e6836f6a1c",
   "metadata": {
    "tags": []
   },
   "outputs": [
    {
     "data": {
      "text/plain": [
       "'test'"
      ]
     },
     "execution_count": 42,
     "metadata": {},
     "output_type": "execute_result"
    }
   ],
   "source": [
    "user"
   ]
  },
  {
   "cell_type": "code",
   "execution_count": 37,
   "id": "ac2ff271-a9d6-440d-bbb0-cce1b27b404f",
   "metadata": {
    "tags": []
   },
   "outputs": [],
   "source": [
    "import ssl\n",
    "CTX = ssl.SSLContext(ssl.PROTOCOL_TLSv1_2)"
   ]
  },
  {
   "cell_type": "code",
   "execution_count": 38,
   "id": "f62c0087-c101-4001-8981-c8122f5ae6d8",
   "metadata": {
    "tags": []
   },
   "outputs": [
    {
     "ename": "HTTPError",
     "evalue": "HTTP Error 500: INTERNAL SERVER ERROR",
     "output_type": "error",
     "traceback": [
      "\u001b[0;31m---------------------------------------------------------------------------\u001b[0m",
      "\u001b[0;31mHTTPError\u001b[0m                                 Traceback (most recent call last)",
      "Cell \u001b[0;32mIn[38], line 1\u001b[0m\n\u001b[0;32m----> 1\u001b[0m fh \u001b[38;5;241m=\u001b[39m \u001b[43murlopen\u001b[49m\u001b[43m(\u001b[49m\u001b[43mRequest\u001b[49m\u001b[43m(\u001b[49m\u001b[43mhdfs\u001b[49m\u001b[43m[\u001b[49m\u001b[38;5;241;43m0\u001b[39;49m\u001b[43m]\u001b[49m\u001b[43m,\u001b[49m\u001b[43m \u001b[49m\u001b[43mheaders\u001b[49m\u001b[38;5;241;43m=\u001b[39;49m\u001b[43mheaders\u001b[49m\u001b[43m)\u001b[49m\u001b[43m,\u001b[49m\u001b[43m \u001b[49m\u001b[43mcontext\u001b[49m\u001b[38;5;241;43m=\u001b[39;49m\u001b[43mCTX\u001b[49m\u001b[43m)\u001b[49m\n",
      "File \u001b[0;32m~/anaconda3/lib/python3.9/urllib/request.py:214\u001b[0m, in \u001b[0;36murlopen\u001b[0;34m(url, data, timeout, cafile, capath, cadefault, context)\u001b[0m\n\u001b[1;32m    212\u001b[0m \u001b[38;5;28;01melse\u001b[39;00m:\n\u001b[1;32m    213\u001b[0m     opener \u001b[38;5;241m=\u001b[39m _opener\n\u001b[0;32m--> 214\u001b[0m \u001b[38;5;28;01mreturn\u001b[39;00m \u001b[43mopener\u001b[49m\u001b[38;5;241;43m.\u001b[39;49m\u001b[43mopen\u001b[49m\u001b[43m(\u001b[49m\u001b[43murl\u001b[49m\u001b[43m,\u001b[49m\u001b[43m \u001b[49m\u001b[43mdata\u001b[49m\u001b[43m,\u001b[49m\u001b[43m \u001b[49m\u001b[43mtimeout\u001b[49m\u001b[43m)\u001b[49m\n",
      "File \u001b[0;32m~/anaconda3/lib/python3.9/urllib/request.py:523\u001b[0m, in \u001b[0;36mOpenerDirector.open\u001b[0;34m(self, fullurl, data, timeout)\u001b[0m\n\u001b[1;32m    521\u001b[0m \u001b[38;5;28;01mfor\u001b[39;00m processor \u001b[38;5;129;01min\u001b[39;00m \u001b[38;5;28mself\u001b[39m\u001b[38;5;241m.\u001b[39mprocess_response\u001b[38;5;241m.\u001b[39mget(protocol, []):\n\u001b[1;32m    522\u001b[0m     meth \u001b[38;5;241m=\u001b[39m \u001b[38;5;28mgetattr\u001b[39m(processor, meth_name)\n\u001b[0;32m--> 523\u001b[0m     response \u001b[38;5;241m=\u001b[39m \u001b[43mmeth\u001b[49m\u001b[43m(\u001b[49m\u001b[43mreq\u001b[49m\u001b[43m,\u001b[49m\u001b[43m \u001b[49m\u001b[43mresponse\u001b[49m\u001b[43m)\u001b[49m\n\u001b[1;32m    525\u001b[0m \u001b[38;5;28;01mreturn\u001b[39;00m response\n",
      "File \u001b[0;32m~/anaconda3/lib/python3.9/urllib/request.py:632\u001b[0m, in \u001b[0;36mHTTPErrorProcessor.http_response\u001b[0;34m(self, request, response)\u001b[0m\n\u001b[1;32m    629\u001b[0m \u001b[38;5;66;03m# According to RFC 2616, \"2xx\" code indicates that the client's\u001b[39;00m\n\u001b[1;32m    630\u001b[0m \u001b[38;5;66;03m# request was successfully received, understood, and accepted.\u001b[39;00m\n\u001b[1;32m    631\u001b[0m \u001b[38;5;28;01mif\u001b[39;00m \u001b[38;5;129;01mnot\u001b[39;00m (\u001b[38;5;241m200\u001b[39m \u001b[38;5;241m<\u001b[39m\u001b[38;5;241m=\u001b[39m code \u001b[38;5;241m<\u001b[39m \u001b[38;5;241m300\u001b[39m):\n\u001b[0;32m--> 632\u001b[0m     response \u001b[38;5;241m=\u001b[39m \u001b[38;5;28;43mself\u001b[39;49m\u001b[38;5;241;43m.\u001b[39;49m\u001b[43mparent\u001b[49m\u001b[38;5;241;43m.\u001b[39;49m\u001b[43merror\u001b[49m\u001b[43m(\u001b[49m\n\u001b[1;32m    633\u001b[0m \u001b[43m        \u001b[49m\u001b[38;5;124;43m'\u001b[39;49m\u001b[38;5;124;43mhttp\u001b[39;49m\u001b[38;5;124;43m'\u001b[39;49m\u001b[43m,\u001b[49m\u001b[43m \u001b[49m\u001b[43mrequest\u001b[49m\u001b[43m,\u001b[49m\u001b[43m \u001b[49m\u001b[43mresponse\u001b[49m\u001b[43m,\u001b[49m\u001b[43m \u001b[49m\u001b[43mcode\u001b[49m\u001b[43m,\u001b[49m\u001b[43m \u001b[49m\u001b[43mmsg\u001b[49m\u001b[43m,\u001b[49m\u001b[43m \u001b[49m\u001b[43mhdrs\u001b[49m\u001b[43m)\u001b[49m\n\u001b[1;32m    635\u001b[0m \u001b[38;5;28;01mreturn\u001b[39;00m response\n",
      "File \u001b[0;32m~/anaconda3/lib/python3.9/urllib/request.py:555\u001b[0m, in \u001b[0;36mOpenerDirector.error\u001b[0;34m(self, proto, *args)\u001b[0m\n\u001b[1;32m    553\u001b[0m     http_err \u001b[38;5;241m=\u001b[39m \u001b[38;5;241m0\u001b[39m\n\u001b[1;32m    554\u001b[0m args \u001b[38;5;241m=\u001b[39m (\u001b[38;5;28mdict\u001b[39m, proto, meth_name) \u001b[38;5;241m+\u001b[39m args\n\u001b[0;32m--> 555\u001b[0m result \u001b[38;5;241m=\u001b[39m \u001b[38;5;28;43mself\u001b[39;49m\u001b[38;5;241;43m.\u001b[39;49m\u001b[43m_call_chain\u001b[49m\u001b[43m(\u001b[49m\u001b[38;5;241;43m*\u001b[39;49m\u001b[43margs\u001b[49m\u001b[43m)\u001b[49m\n\u001b[1;32m    556\u001b[0m \u001b[38;5;28;01mif\u001b[39;00m result:\n\u001b[1;32m    557\u001b[0m     \u001b[38;5;28;01mreturn\u001b[39;00m result\n",
      "File \u001b[0;32m~/anaconda3/lib/python3.9/urllib/request.py:494\u001b[0m, in \u001b[0;36mOpenerDirector._call_chain\u001b[0;34m(self, chain, kind, meth_name, *args)\u001b[0m\n\u001b[1;32m    492\u001b[0m \u001b[38;5;28;01mfor\u001b[39;00m handler \u001b[38;5;129;01min\u001b[39;00m handlers:\n\u001b[1;32m    493\u001b[0m     func \u001b[38;5;241m=\u001b[39m \u001b[38;5;28mgetattr\u001b[39m(handler, meth_name)\n\u001b[0;32m--> 494\u001b[0m     result \u001b[38;5;241m=\u001b[39m \u001b[43mfunc\u001b[49m\u001b[43m(\u001b[49m\u001b[38;5;241;43m*\u001b[39;49m\u001b[43margs\u001b[49m\u001b[43m)\u001b[49m\n\u001b[1;32m    495\u001b[0m     \u001b[38;5;28;01mif\u001b[39;00m result \u001b[38;5;129;01mis\u001b[39;00m \u001b[38;5;129;01mnot\u001b[39;00m \u001b[38;5;28;01mNone\u001b[39;00m:\n\u001b[1;32m    496\u001b[0m         \u001b[38;5;28;01mreturn\u001b[39;00m result\n",
      "File \u001b[0;32m~/anaconda3/lib/python3.9/urllib/request.py:747\u001b[0m, in \u001b[0;36mHTTPRedirectHandler.http_error_302\u001b[0;34m(self, req, fp, code, msg, headers)\u001b[0m\n\u001b[1;32m    744\u001b[0m fp\u001b[38;5;241m.\u001b[39mread()\n\u001b[1;32m    745\u001b[0m fp\u001b[38;5;241m.\u001b[39mclose()\n\u001b[0;32m--> 747\u001b[0m \u001b[38;5;28;01mreturn\u001b[39;00m \u001b[38;5;28;43mself\u001b[39;49m\u001b[38;5;241;43m.\u001b[39;49m\u001b[43mparent\u001b[49m\u001b[38;5;241;43m.\u001b[39;49m\u001b[43mopen\u001b[49m\u001b[43m(\u001b[49m\u001b[43mnew\u001b[49m\u001b[43m,\u001b[49m\u001b[43m \u001b[49m\u001b[43mtimeout\u001b[49m\u001b[38;5;241;43m=\u001b[39;49m\u001b[43mreq\u001b[49m\u001b[38;5;241;43m.\u001b[39;49m\u001b[43mtimeout\u001b[49m\u001b[43m)\u001b[49m\n",
      "File \u001b[0;32m~/anaconda3/lib/python3.9/urllib/request.py:523\u001b[0m, in \u001b[0;36mOpenerDirector.open\u001b[0;34m(self, fullurl, data, timeout)\u001b[0m\n\u001b[1;32m    521\u001b[0m \u001b[38;5;28;01mfor\u001b[39;00m processor \u001b[38;5;129;01min\u001b[39;00m \u001b[38;5;28mself\u001b[39m\u001b[38;5;241m.\u001b[39mprocess_response\u001b[38;5;241m.\u001b[39mget(protocol, []):\n\u001b[1;32m    522\u001b[0m     meth \u001b[38;5;241m=\u001b[39m \u001b[38;5;28mgetattr\u001b[39m(processor, meth_name)\n\u001b[0;32m--> 523\u001b[0m     response \u001b[38;5;241m=\u001b[39m \u001b[43mmeth\u001b[49m\u001b[43m(\u001b[49m\u001b[43mreq\u001b[49m\u001b[43m,\u001b[49m\u001b[43m \u001b[49m\u001b[43mresponse\u001b[49m\u001b[43m)\u001b[49m\n\u001b[1;32m    525\u001b[0m \u001b[38;5;28;01mreturn\u001b[39;00m response\n",
      "File \u001b[0;32m~/anaconda3/lib/python3.9/urllib/request.py:632\u001b[0m, in \u001b[0;36mHTTPErrorProcessor.http_response\u001b[0;34m(self, request, response)\u001b[0m\n\u001b[1;32m    629\u001b[0m \u001b[38;5;66;03m# According to RFC 2616, \"2xx\" code indicates that the client's\u001b[39;00m\n\u001b[1;32m    630\u001b[0m \u001b[38;5;66;03m# request was successfully received, understood, and accepted.\u001b[39;00m\n\u001b[1;32m    631\u001b[0m \u001b[38;5;28;01mif\u001b[39;00m \u001b[38;5;129;01mnot\u001b[39;00m (\u001b[38;5;241m200\u001b[39m \u001b[38;5;241m<\u001b[39m\u001b[38;5;241m=\u001b[39m code \u001b[38;5;241m<\u001b[39m \u001b[38;5;241m300\u001b[39m):\n\u001b[0;32m--> 632\u001b[0m     response \u001b[38;5;241m=\u001b[39m \u001b[38;5;28;43mself\u001b[39;49m\u001b[38;5;241;43m.\u001b[39;49m\u001b[43mparent\u001b[49m\u001b[38;5;241;43m.\u001b[39;49m\u001b[43merror\u001b[49m\u001b[43m(\u001b[49m\n\u001b[1;32m    633\u001b[0m \u001b[43m        \u001b[49m\u001b[38;5;124;43m'\u001b[39;49m\u001b[38;5;124;43mhttp\u001b[39;49m\u001b[38;5;124;43m'\u001b[39;49m\u001b[43m,\u001b[49m\u001b[43m \u001b[49m\u001b[43mrequest\u001b[49m\u001b[43m,\u001b[49m\u001b[43m \u001b[49m\u001b[43mresponse\u001b[49m\u001b[43m,\u001b[49m\u001b[43m \u001b[49m\u001b[43mcode\u001b[49m\u001b[43m,\u001b[49m\u001b[43m \u001b[49m\u001b[43mmsg\u001b[49m\u001b[43m,\u001b[49m\u001b[43m \u001b[49m\u001b[43mhdrs\u001b[49m\u001b[43m)\u001b[49m\n\u001b[1;32m    635\u001b[0m \u001b[38;5;28;01mreturn\u001b[39;00m response\n",
      "File \u001b[0;32m~/anaconda3/lib/python3.9/urllib/request.py:555\u001b[0m, in \u001b[0;36mOpenerDirector.error\u001b[0;34m(self, proto, *args)\u001b[0m\n\u001b[1;32m    553\u001b[0m     http_err \u001b[38;5;241m=\u001b[39m \u001b[38;5;241m0\u001b[39m\n\u001b[1;32m    554\u001b[0m args \u001b[38;5;241m=\u001b[39m (\u001b[38;5;28mdict\u001b[39m, proto, meth_name) \u001b[38;5;241m+\u001b[39m args\n\u001b[0;32m--> 555\u001b[0m result \u001b[38;5;241m=\u001b[39m \u001b[38;5;28;43mself\u001b[39;49m\u001b[38;5;241;43m.\u001b[39;49m\u001b[43m_call_chain\u001b[49m\u001b[43m(\u001b[49m\u001b[38;5;241;43m*\u001b[39;49m\u001b[43margs\u001b[49m\u001b[43m)\u001b[49m\n\u001b[1;32m    556\u001b[0m \u001b[38;5;28;01mif\u001b[39;00m result:\n\u001b[1;32m    557\u001b[0m     \u001b[38;5;28;01mreturn\u001b[39;00m result\n",
      "File \u001b[0;32m~/anaconda3/lib/python3.9/urllib/request.py:494\u001b[0m, in \u001b[0;36mOpenerDirector._call_chain\u001b[0;34m(self, chain, kind, meth_name, *args)\u001b[0m\n\u001b[1;32m    492\u001b[0m \u001b[38;5;28;01mfor\u001b[39;00m handler \u001b[38;5;129;01min\u001b[39;00m handlers:\n\u001b[1;32m    493\u001b[0m     func \u001b[38;5;241m=\u001b[39m \u001b[38;5;28mgetattr\u001b[39m(handler, meth_name)\n\u001b[0;32m--> 494\u001b[0m     result \u001b[38;5;241m=\u001b[39m \u001b[43mfunc\u001b[49m\u001b[43m(\u001b[49m\u001b[38;5;241;43m*\u001b[39;49m\u001b[43margs\u001b[49m\u001b[43m)\u001b[49m\n\u001b[1;32m    495\u001b[0m     \u001b[38;5;28;01mif\u001b[39;00m result \u001b[38;5;129;01mis\u001b[39;00m \u001b[38;5;129;01mnot\u001b[39;00m \u001b[38;5;28;01mNone\u001b[39;00m:\n\u001b[1;32m    496\u001b[0m         \u001b[38;5;28;01mreturn\u001b[39;00m result\n",
      "File \u001b[0;32m~/anaconda3/lib/python3.9/urllib/request.py:747\u001b[0m, in \u001b[0;36mHTTPRedirectHandler.http_error_302\u001b[0;34m(self, req, fp, code, msg, headers)\u001b[0m\n\u001b[1;32m    744\u001b[0m fp\u001b[38;5;241m.\u001b[39mread()\n\u001b[1;32m    745\u001b[0m fp\u001b[38;5;241m.\u001b[39mclose()\n\u001b[0;32m--> 747\u001b[0m \u001b[38;5;28;01mreturn\u001b[39;00m \u001b[38;5;28;43mself\u001b[39;49m\u001b[38;5;241;43m.\u001b[39;49m\u001b[43mparent\u001b[49m\u001b[38;5;241;43m.\u001b[39;49m\u001b[43mopen\u001b[49m\u001b[43m(\u001b[49m\u001b[43mnew\u001b[49m\u001b[43m,\u001b[49m\u001b[43m \u001b[49m\u001b[43mtimeout\u001b[49m\u001b[38;5;241;43m=\u001b[39;49m\u001b[43mreq\u001b[49m\u001b[38;5;241;43m.\u001b[39;49m\u001b[43mtimeout\u001b[49m\u001b[43m)\u001b[49m\n",
      "File \u001b[0;32m~/anaconda3/lib/python3.9/urllib/request.py:523\u001b[0m, in \u001b[0;36mOpenerDirector.open\u001b[0;34m(self, fullurl, data, timeout)\u001b[0m\n\u001b[1;32m    521\u001b[0m \u001b[38;5;28;01mfor\u001b[39;00m processor \u001b[38;5;129;01min\u001b[39;00m \u001b[38;5;28mself\u001b[39m\u001b[38;5;241m.\u001b[39mprocess_response\u001b[38;5;241m.\u001b[39mget(protocol, []):\n\u001b[1;32m    522\u001b[0m     meth \u001b[38;5;241m=\u001b[39m \u001b[38;5;28mgetattr\u001b[39m(processor, meth_name)\n\u001b[0;32m--> 523\u001b[0m     response \u001b[38;5;241m=\u001b[39m \u001b[43mmeth\u001b[49m\u001b[43m(\u001b[49m\u001b[43mreq\u001b[49m\u001b[43m,\u001b[49m\u001b[43m \u001b[49m\u001b[43mresponse\u001b[49m\u001b[43m)\u001b[49m\n\u001b[1;32m    525\u001b[0m \u001b[38;5;28;01mreturn\u001b[39;00m response\n",
      "File \u001b[0;32m~/anaconda3/lib/python3.9/urllib/request.py:632\u001b[0m, in \u001b[0;36mHTTPErrorProcessor.http_response\u001b[0;34m(self, request, response)\u001b[0m\n\u001b[1;32m    629\u001b[0m \u001b[38;5;66;03m# According to RFC 2616, \"2xx\" code indicates that the client's\u001b[39;00m\n\u001b[1;32m    630\u001b[0m \u001b[38;5;66;03m# request was successfully received, understood, and accepted.\u001b[39;00m\n\u001b[1;32m    631\u001b[0m \u001b[38;5;28;01mif\u001b[39;00m \u001b[38;5;129;01mnot\u001b[39;00m (\u001b[38;5;241m200\u001b[39m \u001b[38;5;241m<\u001b[39m\u001b[38;5;241m=\u001b[39m code \u001b[38;5;241m<\u001b[39m \u001b[38;5;241m300\u001b[39m):\n\u001b[0;32m--> 632\u001b[0m     response \u001b[38;5;241m=\u001b[39m \u001b[38;5;28;43mself\u001b[39;49m\u001b[38;5;241;43m.\u001b[39;49m\u001b[43mparent\u001b[49m\u001b[38;5;241;43m.\u001b[39;49m\u001b[43merror\u001b[49m\u001b[43m(\u001b[49m\n\u001b[1;32m    633\u001b[0m \u001b[43m        \u001b[49m\u001b[38;5;124;43m'\u001b[39;49m\u001b[38;5;124;43mhttp\u001b[39;49m\u001b[38;5;124;43m'\u001b[39;49m\u001b[43m,\u001b[49m\u001b[43m \u001b[49m\u001b[43mrequest\u001b[49m\u001b[43m,\u001b[49m\u001b[43m \u001b[49m\u001b[43mresponse\u001b[49m\u001b[43m,\u001b[49m\u001b[43m \u001b[49m\u001b[43mcode\u001b[49m\u001b[43m,\u001b[49m\u001b[43m \u001b[49m\u001b[43mmsg\u001b[49m\u001b[43m,\u001b[49m\u001b[43m \u001b[49m\u001b[43mhdrs\u001b[49m\u001b[43m)\u001b[49m\n\u001b[1;32m    635\u001b[0m \u001b[38;5;28;01mreturn\u001b[39;00m response\n",
      "File \u001b[0;32m~/anaconda3/lib/python3.9/urllib/request.py:555\u001b[0m, in \u001b[0;36mOpenerDirector.error\u001b[0;34m(self, proto, *args)\u001b[0m\n\u001b[1;32m    553\u001b[0m     http_err \u001b[38;5;241m=\u001b[39m \u001b[38;5;241m0\u001b[39m\n\u001b[1;32m    554\u001b[0m args \u001b[38;5;241m=\u001b[39m (\u001b[38;5;28mdict\u001b[39m, proto, meth_name) \u001b[38;5;241m+\u001b[39m args\n\u001b[0;32m--> 555\u001b[0m result \u001b[38;5;241m=\u001b[39m \u001b[38;5;28;43mself\u001b[39;49m\u001b[38;5;241;43m.\u001b[39;49m\u001b[43m_call_chain\u001b[49m\u001b[43m(\u001b[49m\u001b[38;5;241;43m*\u001b[39;49m\u001b[43margs\u001b[49m\u001b[43m)\u001b[49m\n\u001b[1;32m    556\u001b[0m \u001b[38;5;28;01mif\u001b[39;00m result:\n\u001b[1;32m    557\u001b[0m     \u001b[38;5;28;01mreturn\u001b[39;00m result\n",
      "File \u001b[0;32m~/anaconda3/lib/python3.9/urllib/request.py:494\u001b[0m, in \u001b[0;36mOpenerDirector._call_chain\u001b[0;34m(self, chain, kind, meth_name, *args)\u001b[0m\n\u001b[1;32m    492\u001b[0m \u001b[38;5;28;01mfor\u001b[39;00m handler \u001b[38;5;129;01min\u001b[39;00m handlers:\n\u001b[1;32m    493\u001b[0m     func \u001b[38;5;241m=\u001b[39m \u001b[38;5;28mgetattr\u001b[39m(handler, meth_name)\n\u001b[0;32m--> 494\u001b[0m     result \u001b[38;5;241m=\u001b[39m \u001b[43mfunc\u001b[49m\u001b[43m(\u001b[49m\u001b[38;5;241;43m*\u001b[39;49m\u001b[43margs\u001b[49m\u001b[43m)\u001b[49m\n\u001b[1;32m    495\u001b[0m     \u001b[38;5;28;01mif\u001b[39;00m result \u001b[38;5;129;01mis\u001b[39;00m \u001b[38;5;129;01mnot\u001b[39;00m \u001b[38;5;28;01mNone\u001b[39;00m:\n\u001b[1;32m    496\u001b[0m         \u001b[38;5;28;01mreturn\u001b[39;00m result\n",
      "File \u001b[0;32m~/anaconda3/lib/python3.9/urllib/request.py:747\u001b[0m, in \u001b[0;36mHTTPRedirectHandler.http_error_302\u001b[0;34m(self, req, fp, code, msg, headers)\u001b[0m\n\u001b[1;32m    744\u001b[0m fp\u001b[38;5;241m.\u001b[39mread()\n\u001b[1;32m    745\u001b[0m fp\u001b[38;5;241m.\u001b[39mclose()\n\u001b[0;32m--> 747\u001b[0m \u001b[38;5;28;01mreturn\u001b[39;00m \u001b[38;5;28;43mself\u001b[39;49m\u001b[38;5;241;43m.\u001b[39;49m\u001b[43mparent\u001b[49m\u001b[38;5;241;43m.\u001b[39;49m\u001b[43mopen\u001b[49m\u001b[43m(\u001b[49m\u001b[43mnew\u001b[49m\u001b[43m,\u001b[49m\u001b[43m \u001b[49m\u001b[43mtimeout\u001b[49m\u001b[38;5;241;43m=\u001b[39;49m\u001b[43mreq\u001b[49m\u001b[38;5;241;43m.\u001b[39;49m\u001b[43mtimeout\u001b[49m\u001b[43m)\u001b[49m\n",
      "File \u001b[0;32m~/anaconda3/lib/python3.9/urllib/request.py:523\u001b[0m, in \u001b[0;36mOpenerDirector.open\u001b[0;34m(self, fullurl, data, timeout)\u001b[0m\n\u001b[1;32m    521\u001b[0m \u001b[38;5;28;01mfor\u001b[39;00m processor \u001b[38;5;129;01min\u001b[39;00m \u001b[38;5;28mself\u001b[39m\u001b[38;5;241m.\u001b[39mprocess_response\u001b[38;5;241m.\u001b[39mget(protocol, []):\n\u001b[1;32m    522\u001b[0m     meth \u001b[38;5;241m=\u001b[39m \u001b[38;5;28mgetattr\u001b[39m(processor, meth_name)\n\u001b[0;32m--> 523\u001b[0m     response \u001b[38;5;241m=\u001b[39m \u001b[43mmeth\u001b[49m\u001b[43m(\u001b[49m\u001b[43mreq\u001b[49m\u001b[43m,\u001b[49m\u001b[43m \u001b[49m\u001b[43mresponse\u001b[49m\u001b[43m)\u001b[49m\n\u001b[1;32m    525\u001b[0m \u001b[38;5;28;01mreturn\u001b[39;00m response\n",
      "File \u001b[0;32m~/anaconda3/lib/python3.9/urllib/request.py:632\u001b[0m, in \u001b[0;36mHTTPErrorProcessor.http_response\u001b[0;34m(self, request, response)\u001b[0m\n\u001b[1;32m    629\u001b[0m \u001b[38;5;66;03m# According to RFC 2616, \"2xx\" code indicates that the client's\u001b[39;00m\n\u001b[1;32m    630\u001b[0m \u001b[38;5;66;03m# request was successfully received, understood, and accepted.\u001b[39;00m\n\u001b[1;32m    631\u001b[0m \u001b[38;5;28;01mif\u001b[39;00m \u001b[38;5;129;01mnot\u001b[39;00m (\u001b[38;5;241m200\u001b[39m \u001b[38;5;241m<\u001b[39m\u001b[38;5;241m=\u001b[39m code \u001b[38;5;241m<\u001b[39m \u001b[38;5;241m300\u001b[39m):\n\u001b[0;32m--> 632\u001b[0m     response \u001b[38;5;241m=\u001b[39m \u001b[38;5;28;43mself\u001b[39;49m\u001b[38;5;241;43m.\u001b[39;49m\u001b[43mparent\u001b[49m\u001b[38;5;241;43m.\u001b[39;49m\u001b[43merror\u001b[49m\u001b[43m(\u001b[49m\n\u001b[1;32m    633\u001b[0m \u001b[43m        \u001b[49m\u001b[38;5;124;43m'\u001b[39;49m\u001b[38;5;124;43mhttp\u001b[39;49m\u001b[38;5;124;43m'\u001b[39;49m\u001b[43m,\u001b[49m\u001b[43m \u001b[49m\u001b[43mrequest\u001b[49m\u001b[43m,\u001b[49m\u001b[43m \u001b[49m\u001b[43mresponse\u001b[49m\u001b[43m,\u001b[49m\u001b[43m \u001b[49m\u001b[43mcode\u001b[49m\u001b[43m,\u001b[49m\u001b[43m \u001b[49m\u001b[43mmsg\u001b[49m\u001b[43m,\u001b[49m\u001b[43m \u001b[49m\u001b[43mhdrs\u001b[49m\u001b[43m)\u001b[49m\n\u001b[1;32m    635\u001b[0m \u001b[38;5;28;01mreturn\u001b[39;00m response\n",
      "File \u001b[0;32m~/anaconda3/lib/python3.9/urllib/request.py:561\u001b[0m, in \u001b[0;36mOpenerDirector.error\u001b[0;34m(self, proto, *args)\u001b[0m\n\u001b[1;32m    559\u001b[0m \u001b[38;5;28;01mif\u001b[39;00m http_err:\n\u001b[1;32m    560\u001b[0m     args \u001b[38;5;241m=\u001b[39m (\u001b[38;5;28mdict\u001b[39m, \u001b[38;5;124m'\u001b[39m\u001b[38;5;124mdefault\u001b[39m\u001b[38;5;124m'\u001b[39m, \u001b[38;5;124m'\u001b[39m\u001b[38;5;124mhttp_error_default\u001b[39m\u001b[38;5;124m'\u001b[39m) \u001b[38;5;241m+\u001b[39m orig_args\n\u001b[0;32m--> 561\u001b[0m     \u001b[38;5;28;01mreturn\u001b[39;00m \u001b[38;5;28;43mself\u001b[39;49m\u001b[38;5;241;43m.\u001b[39;49m\u001b[43m_call_chain\u001b[49m\u001b[43m(\u001b[49m\u001b[38;5;241;43m*\u001b[39;49m\u001b[43margs\u001b[49m\u001b[43m)\u001b[49m\n",
      "File \u001b[0;32m~/anaconda3/lib/python3.9/urllib/request.py:494\u001b[0m, in \u001b[0;36mOpenerDirector._call_chain\u001b[0;34m(self, chain, kind, meth_name, *args)\u001b[0m\n\u001b[1;32m    492\u001b[0m \u001b[38;5;28;01mfor\u001b[39;00m handler \u001b[38;5;129;01min\u001b[39;00m handlers:\n\u001b[1;32m    493\u001b[0m     func \u001b[38;5;241m=\u001b[39m \u001b[38;5;28mgetattr\u001b[39m(handler, meth_name)\n\u001b[0;32m--> 494\u001b[0m     result \u001b[38;5;241m=\u001b[39m \u001b[43mfunc\u001b[49m\u001b[43m(\u001b[49m\u001b[38;5;241;43m*\u001b[39;49m\u001b[43margs\u001b[49m\u001b[43m)\u001b[49m\n\u001b[1;32m    495\u001b[0m     \u001b[38;5;28;01mif\u001b[39;00m result \u001b[38;5;129;01mis\u001b[39;00m \u001b[38;5;129;01mnot\u001b[39;00m \u001b[38;5;28;01mNone\u001b[39;00m:\n\u001b[1;32m    496\u001b[0m         \u001b[38;5;28;01mreturn\u001b[39;00m result\n",
      "File \u001b[0;32m~/anaconda3/lib/python3.9/urllib/request.py:641\u001b[0m, in \u001b[0;36mHTTPDefaultErrorHandler.http_error_default\u001b[0;34m(self, req, fp, code, msg, hdrs)\u001b[0m\n\u001b[1;32m    640\u001b[0m \u001b[38;5;28;01mdef\u001b[39;00m \u001b[38;5;21mhttp_error_default\u001b[39m(\u001b[38;5;28mself\u001b[39m, req, fp, code, msg, hdrs):\n\u001b[0;32m--> 641\u001b[0m     \u001b[38;5;28;01mraise\u001b[39;00m HTTPError(req\u001b[38;5;241m.\u001b[39mfull_url, code, msg, hdrs, fp)\n",
      "\u001b[0;31mHTTPError\u001b[0m: HTTP Error 500: INTERNAL SERVER ERROR"
     ]
    }
   ],
   "source": [
    "fh = urlopen(Request(hdfs[0], headers=headers), context=CTX)"
   ]
  },
  {
   "cell_type": "code",
   "execution_count": null,
   "id": "73ab016c-31d3-4538-9b19-694f280b37c9",
   "metadata": {},
   "outputs": [],
   "source": []
  },
  {
   "cell_type": "code",
   "execution_count": 85,
   "id": "2934064b-00c2-474f-81b5-36eb98c4b67c",
   "metadata": {
    "tags": []
   },
   "outputs": [
    {
     "name": "stdout",
     "output_type": "stream",
     "text": [
      "Cell_Across_Swath:mod04\n",
      "<class 'h5py._hl.dataset.Dataset'>\n",
      "Cell_Along_Swath:mod04\n",
      "<class 'h5py._hl.dataset.Dataset'>\n",
      "MODIS_Band_Land:mod04\n",
      "<class 'h5py._hl.dataset.Dataset'>\n",
      "MODIS_Band_Ocean:mod04\n",
      "<class 'h5py._hl.dataset.Dataset'>\n",
      "QA_Byte_Land:mod04\n",
      "<class 'h5py._hl.dataset.Dataset'>\n",
      "QA_Byte_Ocean:mod04\n",
      "<class 'h5py._hl.dataset.Dataset'>\n",
      "Solution_1_Land:mod04\n",
      "<class 'h5py._hl.dataset.Dataset'>\n",
      "Solution_2_Land:mod04\n",
      "<class 'h5py._hl.dataset.Dataset'>\n",
      "Solution_3_Land:mod04\n",
      "<class 'h5py._hl.dataset.Dataset'>\n",
      "Solution_Index:mod04\n",
      "<class 'h5py._hl.dataset.Dataset'>\n",
      "Solution_Ocean:mod04\n",
      "<class 'h5py._hl.dataset.Dataset'>\n",
      "mod04\n",
      "<class 'h5py._hl.group.Group'>\n"
     ]
    }
   ],
   "source": [
    "import h5py\n",
    "\n",
    "filename = './MOD04_3K.A2021001.1115.061.2021268052353.h5'\n",
    "\n",
    "f = h5py.File(filename)\n",
    "\n",
    "for key in f.keys():\n",
    "    print(key) #Names of the root level object names in HDF5 file - can be groups or datasets.\n",
    "    print(type(f[key])) # get the object type: usually group or dataset\n"
   ]
  },
  {
   "cell_type": "code",
   "execution_count": 86,
   "id": "bbdc61f0-b764-44aa-b9c3-a8aa2aeb7dab",
   "metadata": {
    "tags": []
   },
   "outputs": [
    {
     "name": "stdout",
     "output_type": "stream",
     "text": [
      "Data Fields\n",
      "Geolocation Fields\n",
      "Swath Attributes\n"
     ]
    }
   ],
   "source": [
    "#Get the HDF5 group; key needs to be a group name from above\n",
    "group = f[key]\n",
    "\n",
    "#Checkout what keys are inside that group.\n",
    "for key in group.keys():\n",
    "    print(key)"
   ]
  },
  {
   "cell_type": "code",
   "execution_count": 115,
   "id": "6dc5c340-72dd-4561-8730-f34cb37f121e",
   "metadata": {
    "tags": []
   },
   "outputs": [
    {
     "data": {
      "text/plain": [
       "array([[-68.86022 , -68.980736, -69.09829 , ..., -80.51433 , -80.48345 ,\n",
       "        -80.4501  ],\n",
       "       [-68.88531 , -69.00572 , -69.12317 , ..., -80.567345, -80.53674 ,\n",
       "        -80.5037  ],\n",
       "       [-68.910164, -69.03048 , -69.147835, ..., -80.62031 , -80.59001 ,\n",
       "        -80.55727 ],\n",
       "       ...,\n",
       "       [-69.14676 , -69.268394, -69.38705 , ..., -81.08495 , -81.05278 ,\n",
       "        -81.01788 ],\n",
       "       [-69.12348 , -69.2452  , -69.36394 , ..., -81.032   , -80.99954 ,\n",
       "        -80.96448 ],\n",
       "       [-69.09999 , -69.221794, -69.34061 , ..., -80.97901 , -80.94621 ,\n",
       "        -80.910995]], dtype=float32)"
      ]
     },
     "execution_count": 115,
     "metadata": {},
     "output_type": "execute_result"
    }
   ],
   "source": [
    "# This assumes group[some_key_inside_the_group] is a dataset, \n",
    "# and returns a np.array:\n",
    "data1 = group['Geolocation Fields']\n",
    "#Do whatever you want with data\n",
    "\n",
    "data1['Latitude'][:]"
   ]
  },
  {
   "cell_type": "code",
   "execution_count": 112,
   "id": "9ab17fc4-2b3a-43b7-a268-4ea63d2256d2",
   "metadata": {
    "tags": []
   },
   "outputs": [
    {
     "name": "stdout",
     "output_type": "stream",
     "text": [
      "Aerosol_Cloud_Fraction_Land\n",
      "Aerosol_Cloud_Fraction_Ocean\n",
      "Aerosol_Type_Land\n",
      "Angstrom_Exponent_1_Ocean\n",
      "Angstrom_Exponent_2_Ocean\n",
      "Asymmetry_Factor_Average_Ocean\n",
      "Asymmetry_Factor_Best_Ocean\n",
      "Backscattering_Ratio_Average_Ocean\n",
      "Backscattering_Ratio_Best_Ocean\n",
      "BowTie_Flag\n",
      "Corrected_Optical_Depth_Land\n",
      "Corrected_Optical_Depth_Land_wav2p1\n",
      "Effective_Optical_Depth_Average_Ocean\n",
      "Effective_Optical_Depth_Best_Ocean\n",
      "Effective_Radius_Ocean\n",
      "Fitting_Error_Land\n",
      "Glint_Angle\n",
      "Image_Optical_Depth_Land_And_Ocean\n",
      "Land_Ocean_Quality_Flag\n",
      "Land_sea_Flag\n",
      "Least_Squares_Error_Ocean\n",
      "MODIS_Band_Land\n",
      "MODIS_Band_Land_t\n",
      "MODIS_Band_Ocean\n",
      "MODIS_Band_Ocean_t\n",
      "Mass_Concentration_Land\n",
      "Mass_Concentration_Ocean\n",
      "Mean_Reflectance_Land\n",
      "Mean_Reflectance_Ocean\n",
      "Number_Pixels_Used_Land\n",
      "Number_Pixels_Used_Ocean\n",
      "Optical_Depth_Land_And_Ocean\n",
      "Optical_Depth_Large_Average_Ocean\n",
      "Optical_Depth_Large_Best_Ocean\n",
      "Optical_Depth_Ratio_Small_Land\n",
      "Optical_Depth_Ratio_Small_Ocean_0.55micron\n",
      "Optical_Depth_Small_Average_Ocean\n",
      "Optical_Depth_Small_Best_Ocean\n",
      "Optical_Depth_by_models_ocean\n",
      "PSML003_Ocean\n",
      "Quality_Assurance_Land\n",
      "Quality_Assurance_Ocean\n",
      "STD_Reflectance_Land\n",
      "STD_Reflectance_Ocean\n",
      "Scan_Start_Time\n",
      "Scattering_Angle\n",
      "Sensor_Azimuth\n",
      "Sensor_Zenith\n",
      "Solar_Azimuth\n",
      "Solar_Zenith\n",
      "Solution_1_Land\n",
      "Solution_1_Land_t\n",
      "Solution_2_Land\n",
      "Solution_2_Land_t\n",
      "Solution_3_Land\n",
      "Solution_3_Land_t\n",
      "Solution_Index\n",
      "Solution_Index_Ocean_Large\n",
      "Solution_Index_Ocean_Small\n",
      "Solution_Index_t\n",
      "Solution_Ocean\n",
      "Solution_Ocean_t\n",
      "Surface_Reflectance_Land\n",
      "Topographic_Altitude_Land\n",
      "Wind_Speed_Ncep_Ocean\n",
      "[-9999 -9999 -9999 -9999 -9999 -9999 -9999 -9999 -9999 -9999 -9999 -9999\n",
      " -9999 -9999 -9999 -9999 -9999 -9999 -9999 -9999 -9999 -9999 -9999 -9999\n",
      " -9999 -9999 -9999 -9999 -9999 -9999 -9999 -9999 -9999 -9999 -9999 -9999\n",
      " -9999 -9999 -9999 -9999 -9999 -9999 -9999 -9999 -9999 -9999 -9999 -9999\n",
      " -9999 -9999 -9999 -9999 -9999 -9999 -9999 -9999 -9999 -9999 -9999 -9999\n",
      " -9999 -9999 -9999 -9999 -9999 -9999 -9999 -9999 -9999 -9999 -9999 -9999\n",
      " -9999 -9999 -9999 -9999 -9999 -9999 -9999 -9999 -9999 -9999 -9999 -9999\n",
      " -9999 -9999 -9999 -9999 -9999 -9999 -9999 -9999 -9999 -9999 -9999 -9999\n",
      " -9999 -9999 -9999 -9999 -9999 -9999 -9999 -9999 -9999 -9999 -9999 -9999\n",
      " -9999 -9999 -9999 -9999 -9999 -9999 -9999 -9999 -9999 -9999 -9999 -9999\n",
      " -9999 -9999 -9999 -9999 -9999 -9999 -9999 -9999 -9999 -9999 -9999 -9999\n",
      " -9999 -9999 -9999 -9999 -9999 -9999 -9999 -9999 -9999 -9999 -9999 -9999\n",
      " -9999 -9999 -9999 -9999 -9999 -9999 -9999 -9999 -9999 -9999 -9999 -9999\n",
      " -9999 -9999 -9999 -9999 -9999 -9999 -9999 -9999 -9999 -9999 -9999 -9999\n",
      " -9999 -9999 -9999 -9999 -9999 -9999 -9999 -9999 -9999 -9999 -9999 -9999\n",
      " -9999 -9999 -9999 -9999 -9999 -9999 -9999 -9999 -9999 -9999 -9999 -9999\n",
      " -9999 -9999 -9999 -9999 -9999 -9999 -9999 -9999 -9999 -9999 -9999 -9999\n",
      " -9999 -9999 -9999 -9999 -9999 -9999 -9999 -9999 -9999 -9999 -9999 -9999\n",
      " -9999 -9999 -9999 -9999 -9999 -9999 -9999 -9999 -9999 -9999 -9999 -9999\n",
      " -9999 -9999 -9999 -9999 -9999 -9999 -9999 -9999 -9999 -9999 -9999 -9999\n",
      " -9999 -9999 -9999 -9999 -9999 -9999 -9999 -9999 -9999 -9999 -9999 -9999\n",
      " -9999 -9999 -9999 -9999 -9999 -9999 -9999 -9999 -9999 -9999 -9999 -9999\n",
      " -9999 -9999 -9999 -9999 -9999 -9999 -9999 -9999 -9999 -9999 -9999 -9999\n",
      " -9999 -9999 -9999 -9999 -9999 -9999 -9999 -9999 -9999 -9999 -9999 -9999\n",
      " -9999 -9999 -9999 -9999 -9999 -9999 -9999 -9999 -9999 -9999 -9999 -9999\n",
      " -9999 -9999 -9999 -9999 -9999 -9999 -9999 -9999 -9999 -9999 -9999 -9999\n",
      " -9999 -9999 -9999 -9999 -9999 -9999 -9999 -9999 -9999 -9999 -9999 -9999\n",
      " -9999 -9999 -9999 -9999 -9999 -9999 -9999 -9999 -9999 -9999 -9999 -9999\n",
      " -9999 -9999 -9999 -9999 -9999 -9999 -9999 -9999 -9999 -9999 -9999 -9999\n",
      " -9999 -9999 -9999 -9999 -9999 -9999 -9999 -9999 -9999 -9999 -9999 -9999\n",
      " -9999 -9999 -9999 -9999 -9999 -9999 -9999 -9999 -9999 -9999 -9999 -9999\n",
      " -9999 -9999 -9999 -9999 -9999 -9999 -9999 -9999 -9999 -9999 -9999 -9999\n",
      " -9999 -9999 -9999 -9999 -9999 -9999 -9999 -9999 -9999 -9999 -9999 -9999\n",
      " -9999 -9999 -9999 -9999 -9999 -9999 -9999 -9999 -9999 -9999 -9999 -9999\n",
      " -9999 -9999 -9999 -9999 -9999 -9999 -9999 -9999 -9999 -9999 -9999 -9999\n",
      " -9999 -9999 -9999 -9999 -9999 -9999 -9999 -9999 -9999 -9999 -9999 -9999\n",
      " -9999 -9999 -9999 -9999 -9999 -9999 -9999 -9999 -9999 -9999 -9999 -9999\n",
      " -9999 -9999 -9999 -9999 -9999 -9999 -9999]\n"
     ]
    }
   ],
   "source": [
    "# This assumes group[some_key_inside_the_group] is a dataset, \n",
    "# and returns a np.array:\n",
    "data2 = group['Data Fields']\n",
    "#Do whatever you want with data\n",
    "\n",
    "for key in data2.keys():\n",
    "    print(key)\n",
    "    \n",
    "print(data2['Optical_Depth_Large_Best_Ocean'][0][0])"
   ]
  },
  {
   "cell_type": "code",
   "execution_count": 95,
   "id": "cab09052-b6d7-4c12-b3d1-01da957f2d60",
   "metadata": {
    "tags": []
   },
   "outputs": [
    {
     "name": "stdout",
     "output_type": "stream",
     "text": [
      "_FV_Aerosol_Cloud_Fraction_Land\n",
      "_FV_Aerosol_Cloud_Fraction_Land_t\n",
      "_FV_Aerosol_Cloud_Fraction_Ocean\n",
      "_FV_Aerosol_Cloud_Fraction_Ocean_t\n",
      "_FV_Aerosol_Type_Land\n",
      "_FV_Aerosol_Type_Land_t\n",
      "_FV_Angstrom_Exponent_1_Ocean\n",
      "_FV_Angstrom_Exponent_1_Ocean_t\n",
      "_FV_Angstrom_Exponent_2_Ocean\n",
      "_FV_Angstrom_Exponent_2_Ocean_t\n",
      "_FV_Asymmetry_Factor_Average_Ocean\n",
      "_FV_Asymmetry_Factor_Average_Ocean_t\n",
      "_FV_Asymmetry_Factor_Best_Ocean\n",
      "_FV_Asymmetry_Factor_Best_Ocean_t\n",
      "_FV_Backscattering_Ratio_Average_Ocean\n",
      "_FV_Backscattering_Ratio_Average_Ocean_t\n",
      "_FV_Backscattering_Ratio_Best_Ocean\n",
      "_FV_Backscattering_Ratio_Best_Ocean_t\n",
      "_FV_BowTie_Flag\n",
      "_FV_BowTie_Flag_t\n",
      "_FV_Corrected_Optical_Depth_Land\n",
      "_FV_Corrected_Optical_Depth_Land_t\n",
      "_FV_Corrected_Optical_Depth_Land_wav2p1\n",
      "_FV_Corrected_Optical_Depth_Land_wav2p1_t\n",
      "_FV_Effective_Optical_Depth_Average_Ocean\n",
      "_FV_Effective_Optical_Depth_Average_Ocean_t\n",
      "_FV_Effective_Optical_Depth_Best_Ocean\n",
      "_FV_Effective_Optical_Depth_Best_Ocean_t\n",
      "_FV_Effective_Radius_Ocean\n",
      "_FV_Effective_Radius_Ocean_t\n",
      "_FV_Fitting_Error_Land\n",
      "_FV_Fitting_Error_Land_t\n",
      "_FV_Glint_Angle\n",
      "_FV_Glint_Angle_t\n",
      "_FV_Image_Optical_Depth_Land_And_Ocean\n",
      "_FV_Image_Optical_Depth_Land_And_Ocean_t\n",
      "_FV_Land_Ocean_Quality_Flag\n",
      "_FV_Land_Ocean_Quality_Flag_t\n",
      "_FV_Land_sea_Flag\n",
      "_FV_Land_sea_Flag_t\n",
      "_FV_Latitude\n",
      "_FV_Latitude_t\n",
      "_FV_Least_Squares_Error_Ocean\n",
      "_FV_Least_Squares_Error_Ocean_t\n",
      "_FV_Longitude\n",
      "_FV_Longitude_t\n",
      "_FV_Mass_Concentration_Land\n",
      "_FV_Mass_Concentration_Land_t\n",
      "_FV_Mass_Concentration_Ocean\n",
      "_FV_Mass_Concentration_Ocean_t\n",
      "_FV_Mean_Reflectance_Land\n",
      "_FV_Mean_Reflectance_Land_t\n",
      "_FV_Mean_Reflectance_Ocean\n",
      "_FV_Mean_Reflectance_Ocean_t\n",
      "_FV_Number_Pixels_Used_Land\n",
      "_FV_Number_Pixels_Used_Land_t\n",
      "_FV_Number_Pixels_Used_Ocean\n",
      "_FV_Number_Pixels_Used_Ocean_t\n",
      "_FV_Optical_Depth_Land_And_Ocean\n",
      "_FV_Optical_Depth_Land_And_Ocean_t\n",
      "_FV_Optical_Depth_Large_Average_Ocean\n",
      "_FV_Optical_Depth_Large_Average_Ocean_t\n",
      "_FV_Optical_Depth_Large_Best_Ocean\n",
      "_FV_Optical_Depth_Large_Best_Ocean_t\n",
      "_FV_Optical_Depth_Ratio_Small_Land\n",
      "_FV_Optical_Depth_Ratio_Small_Land_t\n",
      "_FV_Optical_Depth_Ratio_Small_Ocean_0.55micron\n",
      "_FV_Optical_Depth_Ratio_Small_Ocean_0.55micron_t\n",
      "_FV_Optical_Depth_Small_Average_Ocean\n",
      "_FV_Optical_Depth_Small_Average_Ocean_t\n",
      "_FV_Optical_Depth_Small_Best_Ocean\n",
      "_FV_Optical_Depth_Small_Best_Ocean_t\n",
      "_FV_Optical_Depth_by_models_ocean\n",
      "_FV_Optical_Depth_by_models_ocean_t\n",
      "_FV_PSML003_Ocean\n",
      "_FV_PSML003_Ocean_t\n",
      "_FV_Quality_Assurance_Land\n",
      "_FV_Quality_Assurance_Land_t\n",
      "_FV_Quality_Assurance_Ocean\n",
      "_FV_Quality_Assurance_Ocean_t\n",
      "_FV_STD_Reflectance_Land\n",
      "_FV_STD_Reflectance_Land_t\n",
      "_FV_STD_Reflectance_Ocean\n",
      "_FV_STD_Reflectance_Ocean_t\n",
      "_FV_Scan_Start_Time\n",
      "_FV_Scan_Start_Time_t\n",
      "_FV_Scattering_Angle\n",
      "_FV_Scattering_Angle_t\n",
      "_FV_Sensor_Azimuth\n",
      "_FV_Sensor_Azimuth_t\n",
      "_FV_Sensor_Zenith\n",
      "_FV_Sensor_Zenith_t\n",
      "_FV_Solar_Azimuth\n",
      "_FV_Solar_Azimuth_t\n",
      "_FV_Solar_Zenith\n",
      "_FV_Solar_Zenith_t\n",
      "_FV_Solution_Index_Ocean_Large\n",
      "_FV_Solution_Index_Ocean_Large_t\n",
      "_FV_Solution_Index_Ocean_Small\n",
      "_FV_Solution_Index_Ocean_Small_t\n",
      "_FV_Surface_Reflectance_Land\n",
      "_FV_Surface_Reflectance_Land_t\n",
      "_FV_Topographic_Altitude_Land\n",
      "_FV_Topographic_Altitude_Land_t\n",
      "_FV_Wind_Speed_Ncep_Ocean\n",
      "_FV_Wind_Speed_Ncep_Ocean_t\n"
     ]
    }
   ],
   "source": [
    "data3 = group['Swath Attributes']\n",
    "\n",
    "for key in data3.keys():\n",
    "    print(key)"
   ]
  },
  {
   "cell_type": "code",
   "execution_count": null,
   "id": "39e13623-33f3-4c3c-a20a-eca4fd1b521d",
   "metadata": {},
   "outputs": [],
   "source": []
  }
 ],
 "metadata": {
  "kernelspec": {
   "display_name": "Python 3 (ipykernel)",
   "language": "python",
   "name": "python3"
  },
  "language_info": {
   "codemirror_mode": {
    "name": "ipython",
    "version": 3
   },
   "file_extension": ".py",
   "mimetype": "text/x-python",
   "name": "python",
   "nbconvert_exporter": "python",
   "pygments_lexer": "ipython3",
   "version": "3.9.13"
  }
 },
 "nbformat": 4,
 "nbformat_minor": 5
}
